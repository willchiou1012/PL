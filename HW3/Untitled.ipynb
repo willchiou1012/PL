{
 "cells": [
  {
   "cell_type": "code",
   "execution_count": 7,
   "id": "87681f4a",
   "metadata": {},
   "outputs": [],
   "source": [
    "import urllib.request as req\n",
    "import json\n",
    "url = \"https://lol.garena.tw/champions\"\n",
    "request = req.Request(url, headers = {\n",
    "    \"User-Agent\":\"Mozilla/5.0 (Windows NT 10.0; Win64; x64) AppleWebKit/537.36 (KHTML, like Gecko) Chrome/106.0.0.0 Safari/537.36\"\n",
    "})\n",
    "with req.urlopen(request) as response:\n",
    "    data = response.read().decode(\"utf-8\")"
   ]
  },
  {
   "cell_type": "code",
   "execution_count": 8,
   "id": "3dd1613d",
   "metadata": {
    "scrolled": true
   },
   "outputs": [],
   "source": [
    "import bs4\n",
    "root = bs4.BeautifulSoup(data, \"html.parser\")\n",
    "categories = root.find_all(\"span\", class_=\"name\")"
   ]
  },
  {
   "cell_type": "code",
   "execution_count": 9,
   "id": "87d824d9",
   "metadata": {
    "scrolled": true
   },
   "outputs": [
    {
     "name": "stdout",
     "output_type": "stream",
     "text": [
      "厄薩斯\n",
      "阿璃\n",
      "阿卡莉\n",
      "埃可尚\n",
      "亞歷斯塔\n",
      "阿姆姆\n",
      "艾妮維亞\n",
      "安妮\n",
      "亞菲利歐\n",
      "艾希\n",
      "翱銳龍獸\n",
      "阿祈爾\n",
      "巴德\n",
      "貝爾薇斯\n",
      "布里茨\n",
      "布蘭德\n",
      "布郎姆\n",
      "凱特琳\n",
      "卡蜜兒\n",
      "卡莎碧雅\n",
      "科加斯\n",
      "庫奇\n",
      "達瑞斯\n",
      "黛安娜\n",
      "達瑞文\n",
      "蒙多醫生\n",
      "艾克\n",
      "伊莉絲\n",
      "伊芙琳\n",
      "伊澤瑞爾\n",
      "費德提克\n",
      "菲歐拉\n",
      "飛斯\n",
      "加里歐\n",
      "剛普朗克\n",
      "蓋倫\n",
      "吶兒\n",
      "古拉格斯\n",
      "葛雷夫\n",
      "關\n",
      "赫克林\n",
      "漢默丁格\n",
      "伊羅旖\n",
      "伊瑞莉雅\n",
      "埃爾文\n",
      "珍娜\n",
      "嘉文四世\n",
      "賈克斯\n",
      "杰西\n",
      "燼\n",
      "吉茵珂絲\n",
      "凱莎\n",
      "克黎思妲\n",
      "卡瑪\n",
      "卡爾瑟斯\n",
      "卡薩丁\n",
      "卡特蓮娜\n",
      "凱爾\n",
      "慨影\n",
      "凱能\n",
      "卡力斯\n",
      "鏡爪\n",
      "克雷德\n",
      "寇格魔\n",
      "卡桑帝\n",
      "勒布朗\n",
      "李星\n",
      "雷歐娜\n",
      "莉莉亞\n",
      "麗珊卓\n",
      "路西恩\n",
      "露璐\n",
      "拉克絲\n",
      "墨菲特\n",
      "馬爾札哈\n",
      "茂凱\n",
      "易大師\n",
      "好運姐\n",
      "悟空\n",
      "魔鬥凱薩\n",
      "魔甘娜\n",
      "娜米\n",
      "納瑟斯\n",
      "納帝魯斯\n",
      "妮可\n",
      "奈德麗\n",
      "淣菈\n",
      "夜曲\n",
      "努努和威朗普\n",
      "歐拉夫\n",
      "奧莉安娜\n",
      "鄂爾\n",
      "潘森\n",
      "波比\n",
      "派克\n",
      "姬亞娜\n",
      "葵恩\n",
      "銳空\n",
      "拉姆斯\n",
      "雷珂煞\n",
      "銳兒\n",
      "睿娜妲．格萊斯克\n",
      "雷尼克頓\n",
      "雷葛爾\n",
      "雷玟\n",
      "藍寶\n",
      "雷茲\n",
      "煞蜜拉\n",
      "史瓦妮\n",
      "姍娜\n",
      "瑟菈紛\n",
      "賽特\n",
      "薩科\n",
      "慎\n",
      "希瓦娜\n",
      "辛吉德\n",
      "賽恩\n",
      "希維爾\n",
      "史加納\n",
      "索娜\n",
      "索拉卡\n",
      "斯溫\n",
      "賽勒斯\n",
      "星朵拉\n",
      "貪啃奇\n",
      "塔莉雅\n",
      "塔隆\n",
      "塔里克\n",
      "提摩\n",
      "瑟雷西\n",
      "崔絲塔娜\n",
      "特朗德\n",
      "泰達米爾\n",
      "逆命\n",
      "圖奇\n",
      "烏迪爾\n",
      "烏爾加特\n",
      "法洛士\n",
      "汎\n",
      "維迦\n",
      "威寇茲\n",
      "薇可絲\n",
      "菲艾\n",
      "維爾戈\n",
      "維克特\n",
      "弗拉迪米爾\n",
      "弗力貝爾\n",
      "沃維克\n",
      "剎雅\n",
      "齊勒斯\n",
      "趙信\n",
      "犽宿\n",
      "犽凝\n",
      "約瑞科\n",
      "悠咪\n",
      "札克\n",
      "劫\n",
      "婕莉\n",
      "希格斯\n",
      "極靈\n",
      "柔依\n",
      "枷蘿\n"
     ]
    }
   ],
   "source": [
    "for name in categories:\n",
    "    if name != None:\n",
    "        print(name.string)"
   ]
  },
  {
   "cell_type": "code",
   "execution_count": 25,
   "id": "3c1eabc2",
   "metadata": {
    "scrolled": false
   },
   "outputs": [],
   "source": [
    "df = pd.DataFrame(name)\n",
    "df.to_csv('name.csv')"
   ]
  },
  {
   "cell_type": "code",
   "execution_count": 28,
   "id": "94504bbe",
   "metadata": {
    "scrolled": true
   },
   "outputs": [
    {
     "data": {
      "text/html": [
       "<div>\n",
       "<style scoped>\n",
       "    .dataframe tbody tr th:only-of-type {\n",
       "        vertical-align: middle;\n",
       "    }\n",
       "\n",
       "    .dataframe tbody tr th {\n",
       "        vertical-align: top;\n",
       "    }\n",
       "\n",
       "    .dataframe thead th {\n",
       "        text-align: right;\n",
       "    }\n",
       "</style>\n",
       "<table border=\"1\" class=\"dataframe\">\n",
       "  <thead>\n",
       "    <tr style=\"text-align: right;\">\n",
       "      <th></th>\n",
       "    </tr>\n",
       "    <tr>\n",
       "      <th>厄薩斯</th>\n",
       "    </tr>\n",
       "  </thead>\n",
       "  <tbody>\n",
       "    <tr>\n",
       "      <th>阿璃</th>\n",
       "    </tr>\n",
       "    <tr>\n",
       "      <th>阿卡莉</th>\n",
       "    </tr>\n",
       "    <tr>\n",
       "      <th>埃可尚</th>\n",
       "    </tr>\n",
       "    <tr>\n",
       "      <th>亞歷斯塔</th>\n",
       "    </tr>\n",
       "    <tr>\n",
       "      <th>阿姆姆</th>\n",
       "    </tr>\n",
       "    <tr>\n",
       "      <th>...</th>\n",
       "    </tr>\n",
       "    <tr>\n",
       "      <th>婕莉</th>\n",
       "    </tr>\n",
       "    <tr>\n",
       "      <th>希格斯</th>\n",
       "    </tr>\n",
       "    <tr>\n",
       "      <th>極靈</th>\n",
       "    </tr>\n",
       "    <tr>\n",
       "      <th>柔依</th>\n",
       "    </tr>\n",
       "    <tr>\n",
       "      <th>枷蘿</th>\n",
       "    </tr>\n",
       "  </tbody>\n",
       "</table>\n",
       "<p>161 rows × 0 columns</p>\n",
       "</div>"
      ],
      "text/plain": [
       "Empty DataFrame\n",
       "Columns: []\n",
       "Index: [阿璃, 阿卡莉, 埃可尚, 亞歷斯塔, 阿姆姆, 艾妮維亞, 安妮, 亞菲利歐, 艾希, 翱銳龍獸, 阿祈爾, 巴德, 貝爾薇斯, 布里茨, 布蘭德, 布郎姆, 凱特琳, 卡蜜兒, 卡莎碧雅, 科加斯, 庫奇, 達瑞斯, 黛安娜, 達瑞文, 蒙多醫生, 艾克, 伊莉絲, 伊芙琳, 伊澤瑞爾, 費德提克, 菲歐拉, 飛斯, 加里歐, 剛普朗克, 蓋倫, 吶兒, 古拉格斯, 葛雷夫, 關, 赫克林, 漢默丁格, 伊羅旖, 伊瑞莉雅, 埃爾文, 珍娜, 嘉文四世, 賈克斯, 杰西, 燼, 吉茵珂絲, 凱莎, 克黎思妲, 卡瑪, 卡爾瑟斯, 卡薩丁, 卡特蓮娜, 凱爾, 慨影, 凱能, 卡力斯, 鏡爪, 克雷德, 寇格魔, 卡桑帝, 勒布朗, 李星, 雷歐娜, 莉莉亞, 麗珊卓, 路西恩, 露璐, 拉克絲, 墨菲特, 馬爾札哈, 茂凱, 易大師, 好運姐, 悟空, 魔鬥凱薩, 魔甘娜, 娜米, 納瑟斯, 納帝魯斯, 妮可, 奈德麗, 淣菈, 夜曲, 努努和威朗普, 歐拉夫, 奧莉安娜, 鄂爾, 潘森, 波比, 派克, 姬亞娜, 葵恩, 銳空, 拉姆斯, 雷珂煞, 銳兒, ...]\n",
       "\n",
       "[161 rows x 0 columns]"
      ]
     },
     "execution_count": 28,
     "metadata": {},
     "output_type": "execute_result"
    }
   ],
   "source": [
    "df"
   ]
  },
  {
   "cell_type": "code",
   "execution_count": 63,
   "id": "31c28ba8",
   "metadata": {},
   "outputs": [],
   "source": []
  },
  {
   "cell_type": "code",
   "execution_count": 64,
   "id": "7c5177b6",
   "metadata": {},
   "outputs": [
    {
     "ename": "JSONDecodeError",
     "evalue": "Expecting property name enclosed in double quotes: line 2 column 2 (char 3)",
     "output_type": "error",
     "traceback": [
      "\u001b[1;31m---------------------------------------------------------------------------\u001b[0m",
      "\u001b[1;31mJSONDecodeError\u001b[0m                           Traceback (most recent call last)",
      "Input \u001b[1;32mIn [64]\u001b[0m, in \u001b[0;36m<cell line: 1>\u001b[1;34m()\u001b[0m\n\u001b[1;32m----> 1\u001b[0m N \u001b[38;5;241m=\u001b[39m \u001b[43mjson\u001b[49m\u001b[38;5;241;43m.\u001b[39;49m\u001b[43mload\u001b[49m\u001b[43m(\u001b[49m\u001b[43mn\u001b[49m\u001b[43m)\u001b[49m\n",
      "File \u001b[1;32m~\\anaconda3\\lib\\json\\__init__.py:293\u001b[0m, in \u001b[0;36mload\u001b[1;34m(fp, cls, object_hook, parse_float, parse_int, parse_constant, object_pairs_hook, **kw)\u001b[0m\n\u001b[0;32m    274\u001b[0m \u001b[38;5;28;01mdef\u001b[39;00m \u001b[38;5;21mload\u001b[39m(fp, \u001b[38;5;241m*\u001b[39m, \u001b[38;5;28mcls\u001b[39m\u001b[38;5;241m=\u001b[39m\u001b[38;5;28;01mNone\u001b[39;00m, object_hook\u001b[38;5;241m=\u001b[39m\u001b[38;5;28;01mNone\u001b[39;00m, parse_float\u001b[38;5;241m=\u001b[39m\u001b[38;5;28;01mNone\u001b[39;00m,\n\u001b[0;32m    275\u001b[0m         parse_int\u001b[38;5;241m=\u001b[39m\u001b[38;5;28;01mNone\u001b[39;00m, parse_constant\u001b[38;5;241m=\u001b[39m\u001b[38;5;28;01mNone\u001b[39;00m, object_pairs_hook\u001b[38;5;241m=\u001b[39m\u001b[38;5;28;01mNone\u001b[39;00m, \u001b[38;5;241m*\u001b[39m\u001b[38;5;241m*\u001b[39mkw):\n\u001b[0;32m    276\u001b[0m     \u001b[38;5;124;03m\"\"\"Deserialize ``fp`` (a ``.read()``-supporting file-like object containing\u001b[39;00m\n\u001b[0;32m    277\u001b[0m \u001b[38;5;124;03m    a JSON document) to a Python object.\u001b[39;00m\n\u001b[0;32m    278\u001b[0m \n\u001b[1;32m   (...)\u001b[0m\n\u001b[0;32m    291\u001b[0m \u001b[38;5;124;03m    kwarg; otherwise ``JSONDecoder`` is used.\u001b[39;00m\n\u001b[0;32m    292\u001b[0m \u001b[38;5;124;03m    \"\"\"\u001b[39;00m\n\u001b[1;32m--> 293\u001b[0m     \u001b[38;5;28;01mreturn\u001b[39;00m loads(fp\u001b[38;5;241m.\u001b[39mread(),\n\u001b[0;32m    294\u001b[0m         \u001b[38;5;28mcls\u001b[39m\u001b[38;5;241m=\u001b[39m\u001b[38;5;28mcls\u001b[39m, object_hook\u001b[38;5;241m=\u001b[39mobject_hook,\n\u001b[0;32m    295\u001b[0m         parse_float\u001b[38;5;241m=\u001b[39mparse_float, parse_int\u001b[38;5;241m=\u001b[39mparse_int,\n\u001b[0;32m    296\u001b[0m         parse_constant\u001b[38;5;241m=\u001b[39mparse_constant, object_pairs_hook\u001b[38;5;241m=\u001b[39mobject_pairs_hook, \u001b[38;5;241m*\u001b[39m\u001b[38;5;241m*\u001b[39mkw)\n",
      "File \u001b[1;32m~\\anaconda3\\lib\\json\\__init__.py:346\u001b[0m, in \u001b[0;36mloads\u001b[1;34m(s, cls, object_hook, parse_float, parse_int, parse_constant, object_pairs_hook, **kw)\u001b[0m\n\u001b[0;32m    341\u001b[0m     s \u001b[38;5;241m=\u001b[39m s\u001b[38;5;241m.\u001b[39mdecode(detect_encoding(s), \u001b[38;5;124m'\u001b[39m\u001b[38;5;124msurrogatepass\u001b[39m\u001b[38;5;124m'\u001b[39m)\n\u001b[0;32m    343\u001b[0m \u001b[38;5;28;01mif\u001b[39;00m (\u001b[38;5;28mcls\u001b[39m \u001b[38;5;129;01mis\u001b[39;00m \u001b[38;5;28;01mNone\u001b[39;00m \u001b[38;5;129;01mand\u001b[39;00m object_hook \u001b[38;5;129;01mis\u001b[39;00m \u001b[38;5;28;01mNone\u001b[39;00m \u001b[38;5;129;01mand\u001b[39;00m\n\u001b[0;32m    344\u001b[0m         parse_int \u001b[38;5;129;01mis\u001b[39;00m \u001b[38;5;28;01mNone\u001b[39;00m \u001b[38;5;129;01mand\u001b[39;00m parse_float \u001b[38;5;129;01mis\u001b[39;00m \u001b[38;5;28;01mNone\u001b[39;00m \u001b[38;5;129;01mand\u001b[39;00m\n\u001b[0;32m    345\u001b[0m         parse_constant \u001b[38;5;129;01mis\u001b[39;00m \u001b[38;5;28;01mNone\u001b[39;00m \u001b[38;5;129;01mand\u001b[39;00m object_pairs_hook \u001b[38;5;129;01mis\u001b[39;00m \u001b[38;5;28;01mNone\u001b[39;00m \u001b[38;5;129;01mand\u001b[39;00m \u001b[38;5;129;01mnot\u001b[39;00m kw):\n\u001b[1;32m--> 346\u001b[0m     \u001b[38;5;28;01mreturn\u001b[39;00m \u001b[43m_default_decoder\u001b[49m\u001b[38;5;241;43m.\u001b[39;49m\u001b[43mdecode\u001b[49m\u001b[43m(\u001b[49m\u001b[43ms\u001b[49m\u001b[43m)\u001b[49m\n\u001b[0;32m    347\u001b[0m \u001b[38;5;28;01mif\u001b[39;00m \u001b[38;5;28mcls\u001b[39m \u001b[38;5;129;01mis\u001b[39;00m \u001b[38;5;28;01mNone\u001b[39;00m:\n\u001b[0;32m    348\u001b[0m     \u001b[38;5;28mcls\u001b[39m \u001b[38;5;241m=\u001b[39m JSONDecoder\n",
      "File \u001b[1;32m~\\anaconda3\\lib\\json\\decoder.py:337\u001b[0m, in \u001b[0;36mJSONDecoder.decode\u001b[1;34m(self, s, _w)\u001b[0m\n\u001b[0;32m    332\u001b[0m \u001b[38;5;28;01mdef\u001b[39;00m \u001b[38;5;21mdecode\u001b[39m(\u001b[38;5;28mself\u001b[39m, s, _w\u001b[38;5;241m=\u001b[39mWHITESPACE\u001b[38;5;241m.\u001b[39mmatch):\n\u001b[0;32m    333\u001b[0m     \u001b[38;5;124;03m\"\"\"Return the Python representation of ``s`` (a ``str`` instance\u001b[39;00m\n\u001b[0;32m    334\u001b[0m \u001b[38;5;124;03m    containing a JSON document).\u001b[39;00m\n\u001b[0;32m    335\u001b[0m \n\u001b[0;32m    336\u001b[0m \u001b[38;5;124;03m    \"\"\"\u001b[39;00m\n\u001b[1;32m--> 337\u001b[0m     obj, end \u001b[38;5;241m=\u001b[39m \u001b[38;5;28;43mself\u001b[39;49m\u001b[38;5;241;43m.\u001b[39;49m\u001b[43mraw_decode\u001b[49m\u001b[43m(\u001b[49m\u001b[43ms\u001b[49m\u001b[43m,\u001b[49m\u001b[43m \u001b[49m\u001b[43midx\u001b[49m\u001b[38;5;241;43m=\u001b[39;49m\u001b[43m_w\u001b[49m\u001b[43m(\u001b[49m\u001b[43ms\u001b[49m\u001b[43m,\u001b[49m\u001b[43m \u001b[49m\u001b[38;5;241;43m0\u001b[39;49m\u001b[43m)\u001b[49m\u001b[38;5;241;43m.\u001b[39;49m\u001b[43mend\u001b[49m\u001b[43m(\u001b[49m\u001b[43m)\u001b[49m\u001b[43m)\u001b[49m\n\u001b[0;32m    338\u001b[0m     end \u001b[38;5;241m=\u001b[39m _w(s, end)\u001b[38;5;241m.\u001b[39mend()\n\u001b[0;32m    339\u001b[0m     \u001b[38;5;28;01mif\u001b[39;00m end \u001b[38;5;241m!=\u001b[39m \u001b[38;5;28mlen\u001b[39m(s):\n",
      "File \u001b[1;32m~\\anaconda3\\lib\\json\\decoder.py:353\u001b[0m, in \u001b[0;36mJSONDecoder.raw_decode\u001b[1;34m(self, s, idx)\u001b[0m\n\u001b[0;32m    344\u001b[0m \u001b[38;5;124;03m\"\"\"Decode a JSON document from ``s`` (a ``str`` beginning with\u001b[39;00m\n\u001b[0;32m    345\u001b[0m \u001b[38;5;124;03ma JSON document) and return a 2-tuple of the Python\u001b[39;00m\n\u001b[0;32m    346\u001b[0m \u001b[38;5;124;03mrepresentation and the index in ``s`` where the document ended.\u001b[39;00m\n\u001b[1;32m   (...)\u001b[0m\n\u001b[0;32m    350\u001b[0m \n\u001b[0;32m    351\u001b[0m \u001b[38;5;124;03m\"\"\"\u001b[39;00m\n\u001b[0;32m    352\u001b[0m \u001b[38;5;28;01mtry\u001b[39;00m:\n\u001b[1;32m--> 353\u001b[0m     obj, end \u001b[38;5;241m=\u001b[39m \u001b[38;5;28;43mself\u001b[39;49m\u001b[38;5;241;43m.\u001b[39;49m\u001b[43mscan_once\u001b[49m\u001b[43m(\u001b[49m\u001b[43ms\u001b[49m\u001b[43m,\u001b[49m\u001b[43m \u001b[49m\u001b[43midx\u001b[49m\u001b[43m)\u001b[49m\n\u001b[0;32m    354\u001b[0m \u001b[38;5;28;01mexcept\u001b[39;00m \u001b[38;5;167;01mStopIteration\u001b[39;00m \u001b[38;5;28;01mas\u001b[39;00m err:\n\u001b[0;32m    355\u001b[0m     \u001b[38;5;28;01mraise\u001b[39;00m JSONDecodeError(\u001b[38;5;124m\"\u001b[39m\u001b[38;5;124mExpecting value\u001b[39m\u001b[38;5;124m\"\u001b[39m, s, err\u001b[38;5;241m.\u001b[39mvalue) \u001b[38;5;28;01mfrom\u001b[39;00m \u001b[38;5;28mNone\u001b[39m\n",
      "\u001b[1;31mJSONDecodeError\u001b[0m: Expecting property name enclosed in double quotes: line 2 column 2 (char 3)"
     ]
    }
   ],
   "source": []
  },
  {
   "cell_type": "code",
   "execution_count": 48,
   "id": "b4506912",
   "metadata": {},
   "outputs": [
    {
     "ename": "NameError",
     "evalue": "name 'N' is not defined",
     "output_type": "error",
     "traceback": [
      "\u001b[1;31m---------------------------------------------------------------------------\u001b[0m",
      "\u001b[1;31mNameError\u001b[0m                                 Traceback (most recent call last)",
      "Input \u001b[1;32mIn [48]\u001b[0m, in \u001b[0;36m<cell line: 1>\u001b[1;34m()\u001b[0m\n\u001b[1;32m----> 1\u001b[0m \u001b[38;5;28mtype\u001b[39m(\u001b[43mN\u001b[49m)\n",
      "\u001b[1;31mNameError\u001b[0m: name 'N' is not defined"
     ]
    }
   ],
   "source": []
  },
  {
   "cell_type": "code",
   "execution_count": 44,
   "id": "a1ec79c5",
   "metadata": {},
   "outputs": [
    {
     "ename": "NameError",
     "evalue": "name 'N' is not defined",
     "output_type": "error",
     "traceback": [
      "\u001b[1;31m---------------------------------------------------------------------------\u001b[0m",
      "\u001b[1;31mNameError\u001b[0m                                 Traceback (most recent call last)",
      "Input \u001b[1;32mIn [44]\u001b[0m, in \u001b[0;36m<cell line: 1>\u001b[1;34m()\u001b[0m\n\u001b[1;32m----> 1\u001b[0m \u001b[43mN\u001b[49m\u001b[38;5;241m.\u001b[39mitems()\n",
      "\u001b[1;31mNameError\u001b[0m: name 'N' is not defined"
     ]
    }
   ],
   "source": []
  },
  {
   "cell_type": "code",
   "execution_count": null,
   "id": "3ec32f69",
   "metadata": {},
   "outputs": [],
   "source": []
  }
 ],
 "metadata": {
  "kernelspec": {
   "display_name": "Python 3 (ipykernel)",
   "language": "python",
   "name": "python3"
  },
  "language_info": {
   "codemirror_mode": {
    "name": "ipython",
    "version": 3
   },
   "file_extension": ".py",
   "mimetype": "text/x-python",
   "name": "python",
   "nbconvert_exporter": "python",
   "pygments_lexer": "ipython3",
   "version": "3.9.12"
  }
 },
 "nbformat": 4,
 "nbformat_minor": 5
}
