{
 "cells": [
  {
   "cell_type": "code",
   "execution_count": null,
   "id": "35380d56",
   "metadata": {},
   "outputs": [],
   "source": [
    "#呼叫JSON檔\n",
    "import json\n",
    "Team = open('Team.json',encoding=\"utf8\")"
   ]
  },
  {
   "cell_type": "code",
   "execution_count": null,
   "id": "a0a7780b",
   "metadata": {
    "scrolled": true
   },
   "outputs": [],
   "source": [
    "T = json.load(Team)"
   ]
  },
  {
   "cell_type": "code",
   "execution_count": null,
   "id": "2664188f",
   "metadata": {},
   "outputs": [],
   "source": [
    "type(T)"
   ]
  },
  {
   "cell_type": "code",
   "execution_count": null,
   "id": "e0f7e4d8",
   "metadata": {},
   "outputs": [],
   "source": [
    "#讀出檔案裡的資料\n",
    "T.items()"
   ]
  },
  {
   "cell_type": "code",
   "execution_count": null,
   "id": "cf31f3c7",
   "metadata": {},
   "outputs": [],
   "source": [
    "temp = T.get('隊伍列表')\n",
    "temp1 = T.get('隊伍8強勝率')"
   ]
  },
  {
   "cell_type": "code",
   "execution_count": null,
   "id": "1c3cc952",
   "metadata": {
    "scrolled": false
   },
   "outputs": [],
   "source": [
    "#輸入想查詢的隊伍\n",
    "ask = input(\"查詢隊伍資訊:\")"
   ]
  },
  {
   "cell_type": "code",
   "execution_count": null,
   "id": "d7eb14a1",
   "metadata": {},
   "outputs": [],
   "source": [
    "# 查詢隊伍賽區跟隊伍世界排名\n",
    "for a in temp:\n",
    "    if ask == a.get('隊伍名稱'):\n",
    "        print(ask,'屬於', a.get('隊伍賽區'))\n",
    "        print(\"隊伍世界排名:\", a.get('隊伍世界排名'))"
   ]
  },
  {
   "cell_type": "code",
   "execution_count": null,
   "id": "92ae1314",
   "metadata": {},
   "outputs": [],
   "source": [
    "# 查詢世界賽8強勝率\n",
    "for b in temp1:\n",
    "    if ask == b.get('隊伍名稱'):\n",
    "        print('勝率為', b.get('勝率'))"
   ]
  },
  {
   "cell_type": "code",
   "execution_count": null,
   "id": "e88ca787",
   "metadata": {},
   "outputs": [],
   "source": [
    "#排序隊伍世界排名\n",
    "strength = []\n",
    "for a in temp:\n",
    "    strength.append(a.get('隊伍世界排名'))\n",
    "strength"
   ]
  },
  {
   "cell_type": "code",
   "execution_count": null,
   "id": "62be927a",
   "metadata": {},
   "outputs": [],
   "source": [
    "strength_enumerate = enumerate(strength, start = 1)"
   ]
  },
  {
   "cell_type": "code",
   "execution_count": null,
   "id": "8660bed4",
   "metadata": {},
   "outputs": [],
   "source": [
    "strength_enumerate_sorted = sorted(strength_enumerate, key = lambda s: s[1], reverse = True)\n",
    "strength_enumerate_sorted"
   ]
  },
  {
   "cell_type": "code",
   "execution_count": null,
   "id": "bb5da755",
   "metadata": {},
   "outputs": [],
   "source": [
    "strength_enumerate_sorted[0][0]"
   ]
  },
  {
   "cell_type": "code",
   "execution_count": null,
   "id": "e6009bf1",
   "metadata": {},
   "outputs": [],
   "source": [
    "# 印出排序過後的隊伍名稱&隊伍世界排名\n",
    "for a in strength_enumerate_sorted:\n",
    "    j = a[0] - 1\n",
    "    print(temp[j].get('隊伍名稱'), '是', temp[j].get('隊伍世界排名'))"
   ]
  },
  {
   "cell_type": "code",
   "execution_count": null,
   "id": "06d30aad",
   "metadata": {},
   "outputs": [],
   "source": []
  },
  {
   "cell_type": "code",
   "execution_count": null,
   "id": "6f412855",
   "metadata": {},
   "outputs": [],
   "source": []
  }
 ],
 "metadata": {
  "kernelspec": {
   "display_name": "Python 3 (ipykernel)",
   "language": "python",
   "name": "python3"
  },
  "language_info": {
   "codemirror_mode": {
    "name": "ipython",
    "version": 3
   },
   "file_extension": ".py",
   "mimetype": "text/x-python",
   "name": "python",
   "nbconvert_exporter": "python",
   "pygments_lexer": "ipython3",
   "version": "3.9.12"
  }
 },
 "nbformat": 4,
 "nbformat_minor": 5
}
