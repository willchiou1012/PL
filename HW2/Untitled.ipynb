{
 "cells": [
  {
   "cell_type": "code",
   "execution_count": 58,
   "id": "35380d56",
   "metadata": {},
   "outputs": [],
   "source": [
    "#呼叫JSON檔\n",
    "import json\n",
    "Team = open('Team.json',encoding=\"utf8\")"
   ]
  },
  {
   "cell_type": "code",
   "execution_count": 59,
   "id": "a0a7780b",
   "metadata": {
    "scrolled": true
   },
   "outputs": [],
   "source": [
    "T = json.load(Team)"
   ]
  },
  {
   "cell_type": "code",
   "execution_count": 60,
   "id": "2664188f",
   "metadata": {},
   "outputs": [
    {
     "data": {
      "text/plain": [
       "dict"
      ]
     },
     "execution_count": 60,
     "metadata": {},
     "output_type": "execute_result"
    }
   ],
   "source": [
    "type(T)"
   ]
  },
  {
   "cell_type": "code",
   "execution_count": 61,
   "id": "e0f7e4d8",
   "metadata": {},
   "outputs": [
    {
     "data": {
      "text/plain": [
       "dict_items([('隊伍列表', [{'隊伍名稱': 'T1', '隊伍賽區': 'LCK', '隊伍世界排名': 'No.3'}, {'隊伍名稱': 'GEN.G', '隊伍賽區': 'LCK', '隊伍世界排名': 'No.1'}, {'隊伍名稱': 'JDG', '隊伍賽區': 'LPL', '隊伍世界排名': 'No.2'}, {'隊伍名稱': 'DK', '隊伍賽區': 'LCK', '隊伍世界排名': 'No.5'}, {'隊伍名稱': 'RNG', '隊伍賽區': 'LPL', '隊伍世界排名': 'No.4'}]), ('隊伍8強勝率', [{'隊伍名稱': 'T1', '勝率': '60%'}, {'隊伍名稱': 'RNG', '勝率': '40%'}, {'隊伍名稱': 'JDG', '勝率': '100%'}, {'隊伍名稱': 'GEN.G', '勝率': '70%'}, {'隊伍名稱': 'DK', '勝率': '30%'}])])"
      ]
     },
     "execution_count": 61,
     "metadata": {},
     "output_type": "execute_result"
    }
   ],
   "source": [
    "#讀出檔案裡的資料\n",
    "T.items()"
   ]
  },
  {
   "cell_type": "code",
   "execution_count": 62,
   "id": "cf31f3c7",
   "metadata": {},
   "outputs": [],
   "source": [
    "temp = T.get('隊伍列表')\n",
    "temp1 = T.get('隊伍8強勝率')"
   ]
  },
  {
   "cell_type": "code",
   "execution_count": 63,
   "id": "1c3cc952",
   "metadata": {
    "scrolled": false
   },
   "outputs": [
    {
     "name": "stdout",
     "output_type": "stream",
     "text": [
      "查詢隊伍資訊:GEN.G\n"
     ]
    }
   ],
   "source": [
    "#輸入想查詢的隊伍\n",
    "ask = input(\"查詢隊伍資訊:\")"
   ]
  },
  {
   "cell_type": "code",
   "execution_count": 64,
   "id": "d7eb14a1",
   "metadata": {},
   "outputs": [
    {
     "name": "stdout",
     "output_type": "stream",
     "text": [
      "GEN.G 屬於 LCK\n",
      "隊伍世界排名: No.1\n"
     ]
    }
   ],
   "source": [
    "# 查詢隊伍賽區跟隊伍世界排名\n",
    "for a in temp:\n",
    "    if ask == a.get('隊伍名稱'):\n",
    "        print(ask,'屬於', a.get('隊伍賽區'))\n",
    "        print(\"隊伍世界排名:\", a.get('隊伍世界排名'))"
   ]
  },
  {
   "cell_type": "code",
   "execution_count": 65,
   "id": "92ae1314",
   "metadata": {},
   "outputs": [
    {
     "name": "stdout",
     "output_type": "stream",
     "text": [
      "勝率為 70%\n"
     ]
    }
   ],
   "source": [
    "# 查詢世界賽8強勝率\n",
    "for b in temp1:\n",
    "    if ask == b.get('隊伍名稱'):\n",
    "        print('勝率為', b.get('勝率'))"
   ]
  },
  {
   "cell_type": "code",
   "execution_count": 66,
   "id": "e88ca787",
   "metadata": {},
   "outputs": [
    {
     "data": {
      "text/plain": [
       "['No.3', 'No.1', 'No.2', 'No.5', 'No.4']"
      ]
     },
     "execution_count": 66,
     "metadata": {},
     "output_type": "execute_result"
    }
   ],
   "source": [
    "#排序隊伍世界排名\n",
    "strength = []\n",
    "for a in temp:\n",
    "    strength.append(a.get('隊伍世界排名'))\n",
    "strength"
   ]
  },
  {
   "cell_type": "code",
   "execution_count": 67,
   "id": "62be927a",
   "metadata": {},
   "outputs": [],
   "source": [
    "strength_enumerate = enumerate(strength, start = 1)"
   ]
  },
  {
   "cell_type": "code",
   "execution_count": 68,
   "id": "8660bed4",
   "metadata": {},
   "outputs": [
    {
     "data": {
      "text/plain": [
       "[(4, 'No.5'), (5, 'No.4'), (1, 'No.3'), (3, 'No.2'), (2, 'No.1')]"
      ]
     },
     "execution_count": 68,
     "metadata": {},
     "output_type": "execute_result"
    }
   ],
   "source": [
    "strength_enumerate_sorted = sorted(strength_enumerate, key = lambda s: s[1], reverse = True)\n",
    "strength_enumerate_sorted"
   ]
  },
  {
   "cell_type": "code",
   "execution_count": 69,
   "id": "bb5da755",
   "metadata": {},
   "outputs": [
    {
     "data": {
      "text/plain": [
       "4"
      ]
     },
     "execution_count": 69,
     "metadata": {},
     "output_type": "execute_result"
    }
   ],
   "source": [
    "strength_enumerate_sorted[0][0]"
   ]
  },
  {
   "cell_type": "code",
   "execution_count": 54,
   "id": "e6009bf1",
   "metadata": {},
   "outputs": [
    {
     "name": "stdout",
     "output_type": "stream",
     "text": [
      "DK 是 No.5\n",
      "RNG 是 No.4\n",
      "T1 是 No.3\n",
      "JDG 是 No.2\n",
      "GEN.G 是 No.1\n"
     ]
    }
   ],
   "source": [
    "# 印出排序過後的隊伍名稱&隊伍世界排名\n",
    "for a in strength_enumerate_sorted:\n",
    "    j = a[0] - 1\n",
    "    print(temp[j].get('隊伍名稱'), '是', temp[j].get('隊伍世界排名'))"
   ]
  },
  {
   "cell_type": "code",
   "execution_count": null,
   "id": "06d30aad",
   "metadata": {},
   "outputs": [],
   "source": []
  }
 ],
 "metadata": {
  "kernelspec": {
   "display_name": "Python 3 (ipykernel)",
   "language": "python",
   "name": "python3"
  },
  "language_info": {
   "codemirror_mode": {
    "name": "ipython",
    "version": 3
   },
   "file_extension": ".py",
   "mimetype": "text/x-python",
   "name": "python",
   "nbconvert_exporter": "python",
   "pygments_lexer": "ipython3",
   "version": "3.9.12"
  }
 },
 "nbformat": 4,
 "nbformat_minor": 5
}
