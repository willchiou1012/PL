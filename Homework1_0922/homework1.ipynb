{
 "cells": [
  {
   "cell_type": "code",
   "execution_count": 26,
   "id": "61dda6af",
   "metadata": {
    "scrolled": false
   },
   "outputs": [
    {
     "data": {
      "text/html": [
       "<div>\n",
       "<style scoped>\n",
       "    .dataframe tbody tr th:only-of-type {\n",
       "        vertical-align: middle;\n",
       "    }\n",
       "\n",
       "    .dataframe tbody tr th {\n",
       "        vertical-align: top;\n",
       "    }\n",
       "\n",
       "    .dataframe thead th {\n",
       "        text-align: right;\n",
       "    }\n",
       "</style>\n",
       "<table border=\"1\" class=\"dataframe\">\n",
       "  <thead>\n",
       "    <tr style=\"text-align: right;\">\n",
       "      <th></th>\n",
       "      <th>Clan</th>\n",
       "      <th>Division</th>\n",
       "      <th>MSI champion</th>\n",
       "      <th>Worlds champion</th>\n",
       "    </tr>\n",
       "  </thead>\n",
       "  <tbody>\n",
       "    <tr>\n",
       "      <th>0</th>\n",
       "      <td>GEN.G</td>\n",
       "      <td>LCK</td>\n",
       "      <td>0</td>\n",
       "      <td>2</td>\n",
       "    </tr>\n",
       "    <tr>\n",
       "      <th>1</th>\n",
       "      <td>T1</td>\n",
       "      <td>LCK</td>\n",
       "      <td>2</td>\n",
       "      <td>3</td>\n",
       "    </tr>\n",
       "    <tr>\n",
       "      <th>2</th>\n",
       "      <td>RNG</td>\n",
       "      <td>LPL</td>\n",
       "      <td>3</td>\n",
       "      <td>0</td>\n",
       "    </tr>\n",
       "    <tr>\n",
       "      <th>3</th>\n",
       "      <td>FPX</td>\n",
       "      <td>LPL</td>\n",
       "      <td>0</td>\n",
       "      <td>1</td>\n",
       "    </tr>\n",
       "    <tr>\n",
       "      <th>4</th>\n",
       "      <td>G2</td>\n",
       "      <td>LEC</td>\n",
       "      <td>1</td>\n",
       "      <td>0</td>\n",
       "    </tr>\n",
       "  </tbody>\n",
       "</table>\n",
       "</div>"
      ],
      "text/plain": [
       "    Clan Division  MSI champion  Worlds champion\n",
       "0  GEN.G      LCK             0                2\n",
       "1     T1      LCK             2                3\n",
       "2    RNG      LPL             3                0\n",
       "3    FPX      LPL             0                1\n",
       "4     G2      LEC             1                0"
      ]
     },
     "execution_count": 26,
     "metadata": {},
     "output_type": "execute_result"
    }
   ],
   "source": [
    "#匯入第一個csv檔案\n",
    "\n",
    "import pandas as pd\n",
    "\n",
    "lol = pd.read_csv(\"lol_example1.csv\")\n",
    "lol"
   ]
  },
  {
   "cell_type": "code",
   "execution_count": 27,
   "id": "f10d246d",
   "metadata": {
    "scrolled": true
   },
   "outputs": [
    {
     "data": {
      "text/html": [
       "<div>\n",
       "<style scoped>\n",
       "    .dataframe tbody tr th:only-of-type {\n",
       "        vertical-align: middle;\n",
       "    }\n",
       "\n",
       "    .dataframe tbody tr th {\n",
       "        vertical-align: top;\n",
       "    }\n",
       "\n",
       "    .dataframe thead th {\n",
       "        text-align: right;\n",
       "    }\n",
       "</style>\n",
       "<table border=\"1\" class=\"dataframe\">\n",
       "  <thead>\n",
       "    <tr style=\"text-align: right;\">\n",
       "      <th></th>\n",
       "      <th>Clan</th>\n",
       "      <th>Division</th>\n",
       "      <th>MSI champion</th>\n",
       "      <th>Worlds champion</th>\n",
       "    </tr>\n",
       "  </thead>\n",
       "  <tbody>\n",
       "    <tr>\n",
       "      <th>0</th>\n",
       "      <td>EDG</td>\n",
       "      <td>LPL</td>\n",
       "      <td>1</td>\n",
       "      <td>1</td>\n",
       "    </tr>\n",
       "    <tr>\n",
       "      <th>1</th>\n",
       "      <td>DK</td>\n",
       "      <td>LCK</td>\n",
       "      <td>0</td>\n",
       "      <td>1</td>\n",
       "    </tr>\n",
       "    <tr>\n",
       "      <th>2</th>\n",
       "      <td>FNC</td>\n",
       "      <td>LEC</td>\n",
       "      <td>0</td>\n",
       "      <td>1</td>\n",
       "    </tr>\n",
       "    <tr>\n",
       "      <th>3</th>\n",
       "      <td>PSG</td>\n",
       "      <td>PCS</td>\n",
       "      <td>0</td>\n",
       "      <td>0</td>\n",
       "    </tr>\n",
       "    <tr>\n",
       "      <th>4</th>\n",
       "      <td>IG</td>\n",
       "      <td>LPL</td>\n",
       "      <td>0</td>\n",
       "      <td>1</td>\n",
       "    </tr>\n",
       "  </tbody>\n",
       "</table>\n",
       "</div>"
      ],
      "text/plain": [
       "  Clan Division  MSI champion  Worlds champion\n",
       "0  EDG      LPL             1                1\n",
       "1   DK      LCK             0                1\n",
       "2  FNC      LEC             0                1\n",
       "3  PSG      PCS             0                0\n",
       "4   IG      LPL             0                1"
      ]
     },
     "execution_count": 27,
     "metadata": {},
     "output_type": "execute_result"
    }
   ],
   "source": [
    "#匯入第二個csv檔案\n",
    "\n",
    "lol2 = pd.read_csv(\"lol_example2.csv\")\n",
    "lol2"
   ]
  },
  {
   "cell_type": "code",
   "execution_count": 28,
   "id": "7387c01a",
   "metadata": {},
   "outputs": [],
   "source": [
    "#dataframe to set\n",
    "\n",
    "set_lol = set(lol[\"Division\"])\n",
    "set_lol2 = set(lol2[\"Division\"])"
   ]
  },
  {
   "cell_type": "code",
   "execution_count": 29,
   "id": "2ffdc4df",
   "metadata": {},
   "outputs": [
    {
     "data": {
      "text/plain": [
       "{'LCK', 'LEC', 'LPL'}"
      ]
     },
     "execution_count": 29,
     "metadata": {},
     "output_type": "execute_result"
    }
   ],
   "source": [
    "set_lol"
   ]
  },
  {
   "cell_type": "code",
   "execution_count": 30,
   "id": "27840927",
   "metadata": {},
   "outputs": [
    {
     "data": {
      "text/plain": [
       "{'LCK', 'LEC', 'LPL', 'PCS'}"
      ]
     },
     "execution_count": 30,
     "metadata": {},
     "output_type": "execute_result"
    }
   ],
   "source": [
    "set_lol2"
   ]
  },
  {
   "cell_type": "code",
   "execution_count": 31,
   "id": "51ed1d55",
   "metadata": {},
   "outputs": [
    {
     "data": {
      "text/plain": [
       "{'LCK', 'LEC', 'LPL'}"
      ]
     },
     "execution_count": 31,
     "metadata": {},
     "output_type": "execute_result"
    }
   ],
   "source": [
    "#交集\n",
    "#只顯示重複的賽區\n",
    "\n",
    "set_lol & set_lol2"
   ]
  },
  {
   "cell_type": "code",
   "execution_count": 32,
   "id": "20436b56",
   "metadata": {
    "scrolled": true
   },
   "outputs": [
    {
     "data": {
      "text/plain": [
       "{'LCK', 'LEC', 'LPL', 'PCS'}"
      ]
     },
     "execution_count": 32,
     "metadata": {},
     "output_type": "execute_result"
    }
   ],
   "source": [
    "#聯集\n",
    "#總共有4個賽區\n",
    "\n",
    "set_lol | set_lol2"
   ]
  },
  {
   "cell_type": "code",
   "execution_count": 34,
   "id": "c14f1d19",
   "metadata": {
    "scrolled": true
   },
   "outputs": [
    {
     "data": {
      "text/plain": [
       "{'PCS'}"
      ]
     },
     "execution_count": 34,
     "metadata": {},
     "output_type": "execute_result"
    }
   ],
   "source": [
    "#差集\n",
    "#只有資料二有PCS賽區\n",
    "\n",
    "set_lol2 - set_lol"
   ]
  },
  {
   "cell_type": "code",
   "execution_count": 35,
   "id": "10d0c14e",
   "metadata": {},
   "outputs": [
    {
     "data": {
      "text/plain": [
       "set()"
      ]
     },
     "execution_count": 35,
     "metadata": {},
     "output_type": "execute_result"
    }
   ],
   "source": [
    "#差集\n",
    "# 第一筆資料的賽區第二筆資料都有\n",
    "\n",
    "set_lol - set_lol2"
   ]
  },
  {
   "cell_type": "code",
   "execution_count": 37,
   "id": "670827eb",
   "metadata": {},
   "outputs": [
    {
     "data": {
      "text/plain": [
       "{'PCS'}"
      ]
     },
     "execution_count": 37,
     "metadata": {},
     "output_type": "execute_result"
    }
   ],
   "source": [
    "#對稱差集\n",
    "#聯集 - 交集\n",
    "#因只有4賽區，故可得知對稱差集只有PCS賽區\n",
    "\n",
    "set_union = set_lol | set_lol2\n",
    "set_intersection = set_lol & set_lol2\n",
    "set_union - set_intersection"
   ]
  },
  {
   "cell_type": "code",
   "execution_count": null,
   "id": "9d0dd474",
   "metadata": {},
   "outputs": [],
   "source": []
  }
 ],
 "metadata": {
  "kernelspec": {
   "display_name": "Python 3 (ipykernel)",
   "language": "python",
   "name": "python3"
  },
  "language_info": {
   "codemirror_mode": {
    "name": "ipython",
    "version": 3
   },
   "file_extension": ".py",
   "mimetype": "text/x-python",
   "name": "python",
   "nbconvert_exporter": "python",
   "pygments_lexer": "ipython3",
   "version": "3.9.12"
  }
 },
 "nbformat": 4,
 "nbformat_minor": 5
}
