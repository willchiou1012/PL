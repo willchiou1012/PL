{
 "cells": [
  {
   "cell_type": "code",
   "execution_count": 5,
   "id": "bed1235e",
   "metadata": {},
   "outputs": [],
   "source": [
    "import jieba\n",
    "import jieba.analyse\n",
    "import pandas as pd\n",
    "import numpy\n",
    "from collections import Counter"
   ]
  },
  {
   "cell_type": "code",
   "execution_count": 6,
   "id": "63159c70",
   "metadata": {},
   "outputs": [
    {
     "ename": "UnicodeDecodeError",
     "evalue": "'utf-8' codec can't decode byte 0xbd in position 0: invalid start byte",
     "output_type": "error",
     "traceback": [
      "\u001b[1;31m---------------------------------------------------------------------------\u001b[0m",
      "\u001b[1;31mUnicodeDecodeError\u001b[0m                        Traceback (most recent call last)",
      "Input \u001b[1;32mIn [6]\u001b[0m, in \u001b[0;36m<cell line: 1>\u001b[1;34m()\u001b[0m\n\u001b[1;32m----> 1\u001b[0m orgdata \u001b[38;5;241m=\u001b[39m \u001b[43mpd\u001b[49m\u001b[38;5;241;43m.\u001b[39;49m\u001b[43mread_csv\u001b[49m\u001b[43m(\u001b[49m\u001b[38;5;124;43m'\u001b[39;49m\u001b[38;5;124;43m臺北市街頭隨機強盜案件點位資訊.csv\u001b[39;49m\u001b[38;5;124;43m'\u001b[39;49m\u001b[43m)\u001b[49m\n",
      "File \u001b[1;32m~\\anaconda3\\lib\\site-packages\\pandas\\util\\_decorators.py:311\u001b[0m, in \u001b[0;36mdeprecate_nonkeyword_arguments.<locals>.decorate.<locals>.wrapper\u001b[1;34m(*args, **kwargs)\u001b[0m\n\u001b[0;32m    305\u001b[0m \u001b[38;5;28;01mif\u001b[39;00m \u001b[38;5;28mlen\u001b[39m(args) \u001b[38;5;241m>\u001b[39m num_allow_args:\n\u001b[0;32m    306\u001b[0m     warnings\u001b[38;5;241m.\u001b[39mwarn(\n\u001b[0;32m    307\u001b[0m         msg\u001b[38;5;241m.\u001b[39mformat(arguments\u001b[38;5;241m=\u001b[39marguments),\n\u001b[0;32m    308\u001b[0m         \u001b[38;5;167;01mFutureWarning\u001b[39;00m,\n\u001b[0;32m    309\u001b[0m         stacklevel\u001b[38;5;241m=\u001b[39mstacklevel,\n\u001b[0;32m    310\u001b[0m     )\n\u001b[1;32m--> 311\u001b[0m \u001b[38;5;28;01mreturn\u001b[39;00m func(\u001b[38;5;241m*\u001b[39margs, \u001b[38;5;241m*\u001b[39m\u001b[38;5;241m*\u001b[39mkwargs)\n",
      "File \u001b[1;32m~\\anaconda3\\lib\\site-packages\\pandas\\io\\parsers\\readers.py:680\u001b[0m, in \u001b[0;36mread_csv\u001b[1;34m(filepath_or_buffer, sep, delimiter, header, names, index_col, usecols, squeeze, prefix, mangle_dupe_cols, dtype, engine, converters, true_values, false_values, skipinitialspace, skiprows, skipfooter, nrows, na_values, keep_default_na, na_filter, verbose, skip_blank_lines, parse_dates, infer_datetime_format, keep_date_col, date_parser, dayfirst, cache_dates, iterator, chunksize, compression, thousands, decimal, lineterminator, quotechar, quoting, doublequote, escapechar, comment, encoding, encoding_errors, dialect, error_bad_lines, warn_bad_lines, on_bad_lines, delim_whitespace, low_memory, memory_map, float_precision, storage_options)\u001b[0m\n\u001b[0;32m    665\u001b[0m kwds_defaults \u001b[38;5;241m=\u001b[39m _refine_defaults_read(\n\u001b[0;32m    666\u001b[0m     dialect,\n\u001b[0;32m    667\u001b[0m     delimiter,\n\u001b[1;32m   (...)\u001b[0m\n\u001b[0;32m    676\u001b[0m     defaults\u001b[38;5;241m=\u001b[39m{\u001b[38;5;124m\"\u001b[39m\u001b[38;5;124mdelimiter\u001b[39m\u001b[38;5;124m\"\u001b[39m: \u001b[38;5;124m\"\u001b[39m\u001b[38;5;124m,\u001b[39m\u001b[38;5;124m\"\u001b[39m},\n\u001b[0;32m    677\u001b[0m )\n\u001b[0;32m    678\u001b[0m kwds\u001b[38;5;241m.\u001b[39mupdate(kwds_defaults)\n\u001b[1;32m--> 680\u001b[0m \u001b[38;5;28;01mreturn\u001b[39;00m \u001b[43m_read\u001b[49m\u001b[43m(\u001b[49m\u001b[43mfilepath_or_buffer\u001b[49m\u001b[43m,\u001b[49m\u001b[43m \u001b[49m\u001b[43mkwds\u001b[49m\u001b[43m)\u001b[49m\n",
      "File \u001b[1;32m~\\anaconda3\\lib\\site-packages\\pandas\\io\\parsers\\readers.py:575\u001b[0m, in \u001b[0;36m_read\u001b[1;34m(filepath_or_buffer, kwds)\u001b[0m\n\u001b[0;32m    572\u001b[0m _validate_names(kwds\u001b[38;5;241m.\u001b[39mget(\u001b[38;5;124m\"\u001b[39m\u001b[38;5;124mnames\u001b[39m\u001b[38;5;124m\"\u001b[39m, \u001b[38;5;28;01mNone\u001b[39;00m))\n\u001b[0;32m    574\u001b[0m \u001b[38;5;66;03m# Create the parser.\u001b[39;00m\n\u001b[1;32m--> 575\u001b[0m parser \u001b[38;5;241m=\u001b[39m TextFileReader(filepath_or_buffer, \u001b[38;5;241m*\u001b[39m\u001b[38;5;241m*\u001b[39mkwds)\n\u001b[0;32m    577\u001b[0m \u001b[38;5;28;01mif\u001b[39;00m chunksize \u001b[38;5;129;01mor\u001b[39;00m iterator:\n\u001b[0;32m    578\u001b[0m     \u001b[38;5;28;01mreturn\u001b[39;00m parser\n",
      "File \u001b[1;32m~\\anaconda3\\lib\\site-packages\\pandas\\io\\parsers\\readers.py:933\u001b[0m, in \u001b[0;36mTextFileReader.__init__\u001b[1;34m(self, f, engine, **kwds)\u001b[0m\n\u001b[0;32m    930\u001b[0m     \u001b[38;5;28mself\u001b[39m\u001b[38;5;241m.\u001b[39moptions[\u001b[38;5;124m\"\u001b[39m\u001b[38;5;124mhas_index_names\u001b[39m\u001b[38;5;124m\"\u001b[39m] \u001b[38;5;241m=\u001b[39m kwds[\u001b[38;5;124m\"\u001b[39m\u001b[38;5;124mhas_index_names\u001b[39m\u001b[38;5;124m\"\u001b[39m]\n\u001b[0;32m    932\u001b[0m \u001b[38;5;28mself\u001b[39m\u001b[38;5;241m.\u001b[39mhandles: IOHandles \u001b[38;5;241m|\u001b[39m \u001b[38;5;28;01mNone\u001b[39;00m \u001b[38;5;241m=\u001b[39m \u001b[38;5;28;01mNone\u001b[39;00m\n\u001b[1;32m--> 933\u001b[0m \u001b[38;5;28mself\u001b[39m\u001b[38;5;241m.\u001b[39m_engine \u001b[38;5;241m=\u001b[39m \u001b[38;5;28;43mself\u001b[39;49m\u001b[38;5;241;43m.\u001b[39;49m\u001b[43m_make_engine\u001b[49m\u001b[43m(\u001b[49m\u001b[43mf\u001b[49m\u001b[43m,\u001b[49m\u001b[43m \u001b[49m\u001b[38;5;28;43mself\u001b[39;49m\u001b[38;5;241;43m.\u001b[39;49m\u001b[43mengine\u001b[49m\u001b[43m)\u001b[49m\n",
      "File \u001b[1;32m~\\anaconda3\\lib\\site-packages\\pandas\\io\\parsers\\readers.py:1235\u001b[0m, in \u001b[0;36mTextFileReader._make_engine\u001b[1;34m(self, f, engine)\u001b[0m\n\u001b[0;32m   1232\u001b[0m     \u001b[38;5;28;01mraise\u001b[39;00m \u001b[38;5;167;01mValueError\u001b[39;00m(msg)\n\u001b[0;32m   1234\u001b[0m \u001b[38;5;28;01mtry\u001b[39;00m:\n\u001b[1;32m-> 1235\u001b[0m     \u001b[38;5;28;01mreturn\u001b[39;00m mapping[engine](f, \u001b[38;5;241m*\u001b[39m\u001b[38;5;241m*\u001b[39m\u001b[38;5;28mself\u001b[39m\u001b[38;5;241m.\u001b[39moptions)\n\u001b[0;32m   1236\u001b[0m \u001b[38;5;28;01mexcept\u001b[39;00m \u001b[38;5;167;01mException\u001b[39;00m:\n\u001b[0;32m   1237\u001b[0m     \u001b[38;5;28;01mif\u001b[39;00m \u001b[38;5;28mself\u001b[39m\u001b[38;5;241m.\u001b[39mhandles \u001b[38;5;129;01mis\u001b[39;00m \u001b[38;5;129;01mnot\u001b[39;00m \u001b[38;5;28;01mNone\u001b[39;00m:\n",
      "File \u001b[1;32m~\\anaconda3\\lib\\site-packages\\pandas\\io\\parsers\\c_parser_wrapper.py:75\u001b[0m, in \u001b[0;36mCParserWrapper.__init__\u001b[1;34m(self, src, **kwds)\u001b[0m\n\u001b[0;32m     72\u001b[0m     kwds\u001b[38;5;241m.\u001b[39mpop(key, \u001b[38;5;28;01mNone\u001b[39;00m)\n\u001b[0;32m     74\u001b[0m kwds[\u001b[38;5;124m\"\u001b[39m\u001b[38;5;124mdtype\u001b[39m\u001b[38;5;124m\"\u001b[39m] \u001b[38;5;241m=\u001b[39m ensure_dtype_objs(kwds\u001b[38;5;241m.\u001b[39mget(\u001b[38;5;124m\"\u001b[39m\u001b[38;5;124mdtype\u001b[39m\u001b[38;5;124m\"\u001b[39m, \u001b[38;5;28;01mNone\u001b[39;00m))\n\u001b[1;32m---> 75\u001b[0m \u001b[38;5;28mself\u001b[39m\u001b[38;5;241m.\u001b[39m_reader \u001b[38;5;241m=\u001b[39m parsers\u001b[38;5;241m.\u001b[39mTextReader(src, \u001b[38;5;241m*\u001b[39m\u001b[38;5;241m*\u001b[39mkwds)\n\u001b[0;32m     77\u001b[0m \u001b[38;5;28mself\u001b[39m\u001b[38;5;241m.\u001b[39munnamed_cols \u001b[38;5;241m=\u001b[39m \u001b[38;5;28mself\u001b[39m\u001b[38;5;241m.\u001b[39m_reader\u001b[38;5;241m.\u001b[39munnamed_cols\n\u001b[0;32m     79\u001b[0m \u001b[38;5;66;03m# error: Cannot determine type of 'names'\u001b[39;00m\n",
      "File \u001b[1;32m~\\anaconda3\\lib\\site-packages\\pandas\\_libs\\parsers.pyx:544\u001b[0m, in \u001b[0;36mpandas._libs.parsers.TextReader.__cinit__\u001b[1;34m()\u001b[0m\n",
      "File \u001b[1;32m~\\anaconda3\\lib\\site-packages\\pandas\\_libs\\parsers.pyx:633\u001b[0m, in \u001b[0;36mpandas._libs.parsers.TextReader._get_header\u001b[1;34m()\u001b[0m\n",
      "File \u001b[1;32m~\\anaconda3\\lib\\site-packages\\pandas\\_libs\\parsers.pyx:847\u001b[0m, in \u001b[0;36mpandas._libs.parsers.TextReader._tokenize_rows\u001b[1;34m()\u001b[0m\n",
      "File \u001b[1;32m~\\anaconda3\\lib\\site-packages\\pandas\\_libs\\parsers.pyx:1952\u001b[0m, in \u001b[0;36mpandas._libs.parsers.raise_parser_error\u001b[1;34m()\u001b[0m\n",
      "\u001b[1;31mUnicodeDecodeError\u001b[0m: 'utf-8' codec can't decode byte 0xbd in position 0: invalid start byte"
     ]
    }
   ],
   "source": [
    "orgdata = pd.read_csv('臺北市街頭隨機強盜案件點位資訊.csv')"
   ]
  },
  {
   "cell_type": "code",
   "execution_count": 3,
   "id": "ebdc84ae",
   "metadata": {},
   "outputs": [
    {
     "ename": "NameError",
     "evalue": "name 'orgdata' is not defined",
     "output_type": "error",
     "traceback": [
      "\u001b[1;31m---------------------------------------------------------------------------\u001b[0m",
      "\u001b[1;31mNameError\u001b[0m                                 Traceback (most recent call last)",
      "Input \u001b[1;32mIn [3]\u001b[0m, in \u001b[0;36m<cell line: 1>\u001b[1;34m()\u001b[0m\n\u001b[1;32m----> 1\u001b[0m \u001b[43morgdata\u001b[49m\u001b[38;5;241m.\u001b[39mhead()\n",
      "\u001b[1;31mNameError\u001b[0m: name 'orgdata' is not defined"
     ]
    }
   ],
   "source": [
    "orgdata.head()"
   ]
  },
  {
   "cell_type": "code",
   "execution_count": 36,
   "id": "8cbcd103",
   "metadata": {},
   "outputs": [
    {
     "name": "stdout",
     "output_type": "stream",
     "text": [
      "我/是/臺師大/科技系/學生/邱致瑋\n"
     ]
    }
   ],
   "source": [
    "documents = ['我是臺師大科技系學生邱致瑋']\n",
    "for sentence in documents:\n",
    "    seg_list = jieba.cut(sentence)\n",
    "    print('/'.join(seg_list))"
   ]
  },
  {
   "cell_type": "code",
   "execution_count": 37,
   "id": "1969036b",
   "metadata": {},
   "outputs": [
    {
     "name": "stdout",
     "output_type": "stream",
     "text": [
      "我/是/臺師大/科技系/學生/邱致瑋\n"
     ]
    }
   ],
   "source": [
    "jieba.load_userdict('./userdict.txt')\n",
    "\n",
    "for sentence in documents:\n",
    "    seg_list = jieba.cut(sentence)\n",
    "    print('/'.join(seg_list))"
   ]
  },
  {
   "cell_type": "code",
   "execution_count": 38,
   "id": "3b9207e4",
   "metadata": {},
   "outputs": [
    {
     "data": {
      "text/html": [
       "<div>\n",
       "<style scoped>\n",
       "    .dataframe tbody tr th:only-of-type {\n",
       "        vertical-align: middle;\n",
       "    }\n",
       "\n",
       "    .dataframe tbody tr th {\n",
       "        vertical-align: top;\n",
       "    }\n",
       "\n",
       "    .dataframe thead th {\n",
       "        text-align: right;\n",
       "    }\n",
       "</style>\n",
       "<table border=\"1\" class=\"dataframe\">\n",
       "  <thead>\n",
       "    <tr style=\"text-align: right;\">\n",
       "      <th></th>\n",
       "      <th>機構名稱</th>\n",
       "      <th>機構種類</th>\n",
       "      <th>縣市</th>\n",
       "      <th>區</th>\n",
       "      <th>地址全址</th>\n",
       "      <th>O_ABC</th>\n",
       "      <th>特約服務項目</th>\n",
       "      <th>特約縣市</th>\n",
       "      <th>特約區域</th>\n",
       "      <th>機構電話</th>\n",
       "      <th>機構負責人姓名</th>\n",
       "      <th>seg</th>\n",
       "    </tr>\n",
       "  </thead>\n",
       "  <tbody>\n",
       "    <tr>\n",
       "      <th>0</th>\n",
       "      <td>銀之家長照股份有限公司附設彰化縣私立銀之家居家長照機構</td>\n",
       "      <td>1</td>\n",
       "      <td>10007</td>\n",
       "      <td>10007160</td>\n",
       "      <td>彰化縣永靖鄉瑚璉村多福路49號</td>\n",
       "      <td>B</td>\n",
       "      <td>居家服務</td>\n",
       "      <td>10007</td>\n",
       "      <td>10007010;10007020;10007030;10007040;10007050;1...</td>\n",
       "      <td>48220758</td>\n",
       "      <td>凃俊任</td>\n",
       "      <td></td>\n",
       "    </tr>\n",
       "    <tr>\n",
       "      <th>1</th>\n",
       "      <td>財團法人台中市私立真愛社會福利慈善事業基金會附設私立共好社區長照機構</td>\n",
       "      <td>2</td>\n",
       "      <td>66000</td>\n",
       "      <td>66000280</td>\n",
       "      <td>臺中市大里區新里里13鄰鄰永隆路132號2樓</td>\n",
       "      <td>B</td>\n",
       "      <td>喘息服務</td>\n",
       "      <td>66000</td>\n",
       "      <td>66000010;66000020;66000030;66000040;66000050;6...</td>\n",
       "      <td>04-24062622</td>\n",
       "      <td>李頴彥</td>\n",
       "      <td></td>\n",
       "    </tr>\n",
       "    <tr>\n",
       "      <th>2</th>\n",
       "      <td>宜寧居家護理所</td>\n",
       "      <td>B1</td>\n",
       "      <td>63000</td>\n",
       "      <td>63000110</td>\n",
       "      <td>臺北市士林區前港里承德路四段235號9樓</td>\n",
       "      <td>B</td>\n",
       "      <td>專業照護服務</td>\n",
       "      <td>65000</td>\n",
       "      <td>65000010;65000020;65000030;65000040;65000050;6...</td>\n",
       "      <td>02-28822382</td>\n",
       "      <td>張肇仙</td>\n",
       "      <td></td>\n",
       "    </tr>\n",
       "    <tr>\n",
       "      <th>3</th>\n",
       "      <td>彰化基督教醫療財團法人彰化基督教醫院</td>\n",
       "      <td>B2</td>\n",
       "      <td>10007</td>\n",
       "      <td>10007010</td>\n",
       "      <td>彰化縣彰化市南校街135號</td>\n",
       "      <td>B</td>\n",
       "      <td>交通接送服務</td>\n",
       "      <td>10007</td>\n",
       "      <td>NaN</td>\n",
       "      <td>04-7238595#8466</td>\n",
       "      <td>陳穆寬</td>\n",
       "      <td></td>\n",
       "    </tr>\n",
       "    <tr>\n",
       "      <th>4</th>\n",
       "      <td>基隆市私立美綠居家護理所居家式服務類長期照顧服務機構</td>\n",
       "      <td>1</td>\n",
       "      <td>10017</td>\n",
       "      <td>10017050</td>\n",
       "      <td>基隆市中山區中山里中山一路121號</td>\n",
       "      <td>B</td>\n",
       "      <td>喘息服務</td>\n",
       "      <td>10017</td>\n",
       "      <td>10017010;10017020;10017030;10017040;10017050;1...</td>\n",
       "      <td>02-24251695</td>\n",
       "      <td>李珮菁</td>\n",
       "      <td></td>\n",
       "    </tr>\n",
       "  </tbody>\n",
       "</table>\n",
       "</div>"
      ],
      "text/plain": [
       "                                 機構名稱 機構種類     縣市         區  \\\n",
       "0         銀之家長照股份有限公司附設彰化縣私立銀之家居家長照機構    1  10007  10007160   \n",
       "1  財團法人台中市私立真愛社會福利慈善事業基金會附設私立共好社區長照機構    2  66000  66000280   \n",
       "2                             宜寧居家護理所   B1  63000  63000110   \n",
       "3                  彰化基督教醫療財團法人彰化基督教醫院   B2  10007  10007010   \n",
       "4          基隆市私立美綠居家護理所居家式服務類長期照顧服務機構    1  10017  10017050   \n",
       "\n",
       "                     地址全址 O_ABC  特約服務項目   特約縣市  \\\n",
       "0         彰化縣永靖鄉瑚璉村多福路49號     B    居家服務  10007   \n",
       "1  臺中市大里區新里里13鄰鄰永隆路132號2樓     B    喘息服務  66000   \n",
       "2    臺北市士林區前港里承德路四段235號9樓     B  專業照護服務  65000   \n",
       "3           彰化縣彰化市南校街135號     B  交通接送服務  10007   \n",
       "4       基隆市中山區中山里中山一路121號     B    喘息服務  10017   \n",
       "\n",
       "                                                特約區域             機構電話 機構負責人姓名  \\\n",
       "0  10007010;10007020;10007030;10007040;10007050;1...         48220758     凃俊任   \n",
       "1  66000010;66000020;66000030;66000040;66000050;6...      04-24062622     李頴彥   \n",
       "2  65000010;65000020;65000030;65000040;65000050;6...      02-28822382     張肇仙   \n",
       "3                                                NaN  04-7238595#8466     陳穆寬   \n",
       "4  10017010;10017020;10017030;10017040;10017050;1...      02-24251695     李珮菁   \n",
       "\n",
       "  seg  \n",
       "0      \n",
       "1      \n",
       "2      \n",
       "3      \n",
       "4      "
      ]
     },
     "execution_count": 38,
     "metadata": {},
     "output_type": "execute_result"
    }
   ],
   "source": [
    "orgdata['seg'] = \"\"\n",
    "orgdata.head()"
   ]
  },
  {
   "cell_type": "code",
   "execution_count": 39,
   "id": "ff7f9491",
   "metadata": {},
   "outputs": [
    {
     "name": "stderr",
     "output_type": "stream",
     "text": [
      "C:\\Users\\will_\\AppData\\Local\\Temp\\ipykernel_33400\\3509243978.py:6: SettingWithCopyWarning:\n",
      "\n",
      "\n",
      "A value is trying to be set on a copy of a slice from a DataFrame\n",
      "\n",
      "See the caveats in the documentation: https://pandas.pydata.org/pandas-docs/stable/user_guide/indexing.html#returning-a-view-versus-a-copy\n",
      "\n"
     ]
    }
   ],
   "source": [
    "jieba.analyse.set_stop_words('stopwords.txt')\n",
    "index = 0\n",
    "for documents in orgdata['特約服務項目']:\n",
    "    seg_list = jieba.analyse.extract_tags(documents, 150)\n",
    "    #seg_list = jieba.lcut(documents)\n",
    "    orgdata['seg'].iloc[index] = seg_list\n",
    "    index += 1"
   ]
  },
  {
   "cell_type": "code",
   "execution_count": 40,
   "id": "c0378e98",
   "metadata": {
    "scrolled": true
   },
   "outputs": [
    {
     "data": {
      "text/plain": [
       "0           [服務, 居家]\n",
       "1           [服務, 喘息]\n",
       "2       [專業, 照護, 服務]\n",
       "3       [服務, 接送, 交通]\n",
       "4           [服務, 喘息]\n",
       "            ...     \n",
       "3365        [巷弄, 照站]\n",
       "3366        [服務, 居家]\n",
       "3367    [托顧, 服務, 家庭]\n",
       "3368       [營養餐, 服務]\n",
       "3369        [巷弄, 照站]\n",
       "Name: seg, Length: 3370, dtype: object"
      ]
     },
     "execution_count": 40,
     "metadata": {},
     "output_type": "execute_result"
    }
   ],
   "source": [
    "orgdata['seg']"
   ]
  },
  {
   "cell_type": "code",
   "execution_count": 41,
   "id": "7fd0711f",
   "metadata": {},
   "outputs": [],
   "source": [
    "words = list(orgdata['O_ABC'])\n",
    "show_key = pd.DataFrame(Counter(words).keys())\n",
    "show_values = pd.DataFrame(Counter(words).values())"
   ]
  },
  {
   "cell_type": "code",
   "execution_count": 42,
   "id": "3ad21763",
   "metadata": {},
   "outputs": [],
   "source": [
    "df = [show_key, show_values]"
   ]
  },
  {
   "cell_type": "code",
   "execution_count": 43,
   "id": "f708b0fc",
   "metadata": {},
   "outputs": [
    {
     "data": {
      "text/html": [
       "<div>\n",
       "<style scoped>\n",
       "    .dataframe tbody tr th:only-of-type {\n",
       "        vertical-align: middle;\n",
       "    }\n",
       "\n",
       "    .dataframe tbody tr th {\n",
       "        vertical-align: top;\n",
       "    }\n",
       "\n",
       "    .dataframe thead th {\n",
       "        text-align: right;\n",
       "    }\n",
       "</style>\n",
       "<table border=\"1\" class=\"dataframe\">\n",
       "  <thead>\n",
       "    <tr style=\"text-align: right;\">\n",
       "      <th></th>\n",
       "      <th>O_ABC</th>\n",
       "      <th>freguency</th>\n",
       "    </tr>\n",
       "  </thead>\n",
       "  <tbody>\n",
       "    <tr>\n",
       "      <th>0</th>\n",
       "      <td>B</td>\n",
       "      <td>2414</td>\n",
       "    </tr>\n",
       "    <tr>\n",
       "      <th>1</th>\n",
       "      <td>C</td>\n",
       "      <td>813</td>\n",
       "    </tr>\n",
       "    <tr>\n",
       "      <th>2</th>\n",
       "      <td>A</td>\n",
       "      <td>143</td>\n",
       "    </tr>\n",
       "  </tbody>\n",
       "</table>\n",
       "</div>"
      ],
      "text/plain": [
       "  O_ABC  freguency\n",
       "0     B       2414\n",
       "1     C        813\n",
       "2     A        143"
      ]
     },
     "execution_count": 43,
     "metadata": {},
     "output_type": "execute_result"
    }
   ],
   "source": [
    "result = pd.concat(df, axis=1)\n",
    "result.columns = ['O_ABC', 'freguency']\n",
    "result"
   ]
  },
  {
   "cell_type": "code",
   "execution_count": 44,
   "id": "8bca8878",
   "metadata": {
    "scrolled": true
   },
   "outputs": [
    {
     "data": {
      "application/vnd.plotly.v1+json": {
       "config": {
        "plotlyServerURL": "https://plot.ly"
       },
       "data": [
        {
         "alignmentgroup": "True",
         "hovertemplate": "O_ABC=%{x}<br>freguency=%{y}<extra></extra>",
         "legendgroup": "",
         "marker": {
          "color": "#636efa",
          "pattern": {
           "shape": ""
          }
         },
         "name": "",
         "offsetgroup": "",
         "orientation": "v",
         "showlegend": false,
         "textposition": "auto",
         "type": "bar",
         "x": [
          "B",
          "C",
          "A"
         ],
         "xaxis": "x",
         "y": [
          2414,
          813,
          143
         ],
         "yaxis": "y"
        }
       ],
       "layout": {
        "barmode": "relative",
        "legend": {
         "tracegroupgap": 0
        },
        "template": {
         "data": {
          "bar": [
           {
            "error_x": {
             "color": "#2a3f5f"
            },
            "error_y": {
             "color": "#2a3f5f"
            },
            "marker": {
             "line": {
              "color": "#E5ECF6",
              "width": 0.5
             },
             "pattern": {
              "fillmode": "overlay",
              "size": 10,
              "solidity": 0.2
             }
            },
            "type": "bar"
           }
          ],
          "barpolar": [
           {
            "marker": {
             "line": {
              "color": "#E5ECF6",
              "width": 0.5
             },
             "pattern": {
              "fillmode": "overlay",
              "size": 10,
              "solidity": 0.2
             }
            },
            "type": "barpolar"
           }
          ],
          "carpet": [
           {
            "aaxis": {
             "endlinecolor": "#2a3f5f",
             "gridcolor": "white",
             "linecolor": "white",
             "minorgridcolor": "white",
             "startlinecolor": "#2a3f5f"
            },
            "baxis": {
             "endlinecolor": "#2a3f5f",
             "gridcolor": "white",
             "linecolor": "white",
             "minorgridcolor": "white",
             "startlinecolor": "#2a3f5f"
            },
            "type": "carpet"
           }
          ],
          "choropleth": [
           {
            "colorbar": {
             "outlinewidth": 0,
             "ticks": ""
            },
            "type": "choropleth"
           }
          ],
          "contour": [
           {
            "colorbar": {
             "outlinewidth": 0,
             "ticks": ""
            },
            "colorscale": [
             [
              0,
              "#0d0887"
             ],
             [
              0.1111111111111111,
              "#46039f"
             ],
             [
              0.2222222222222222,
              "#7201a8"
             ],
             [
              0.3333333333333333,
              "#9c179e"
             ],
             [
              0.4444444444444444,
              "#bd3786"
             ],
             [
              0.5555555555555556,
              "#d8576b"
             ],
             [
              0.6666666666666666,
              "#ed7953"
             ],
             [
              0.7777777777777778,
              "#fb9f3a"
             ],
             [
              0.8888888888888888,
              "#fdca26"
             ],
             [
              1,
              "#f0f921"
             ]
            ],
            "type": "contour"
           }
          ],
          "contourcarpet": [
           {
            "colorbar": {
             "outlinewidth": 0,
             "ticks": ""
            },
            "type": "contourcarpet"
           }
          ],
          "heatmap": [
           {
            "colorbar": {
             "outlinewidth": 0,
             "ticks": ""
            },
            "colorscale": [
             [
              0,
              "#0d0887"
             ],
             [
              0.1111111111111111,
              "#46039f"
             ],
             [
              0.2222222222222222,
              "#7201a8"
             ],
             [
              0.3333333333333333,
              "#9c179e"
             ],
             [
              0.4444444444444444,
              "#bd3786"
             ],
             [
              0.5555555555555556,
              "#d8576b"
             ],
             [
              0.6666666666666666,
              "#ed7953"
             ],
             [
              0.7777777777777778,
              "#fb9f3a"
             ],
             [
              0.8888888888888888,
              "#fdca26"
             ],
             [
              1,
              "#f0f921"
             ]
            ],
            "type": "heatmap"
           }
          ],
          "heatmapgl": [
           {
            "colorbar": {
             "outlinewidth": 0,
             "ticks": ""
            },
            "colorscale": [
             [
              0,
              "#0d0887"
             ],
             [
              0.1111111111111111,
              "#46039f"
             ],
             [
              0.2222222222222222,
              "#7201a8"
             ],
             [
              0.3333333333333333,
              "#9c179e"
             ],
             [
              0.4444444444444444,
              "#bd3786"
             ],
             [
              0.5555555555555556,
              "#d8576b"
             ],
             [
              0.6666666666666666,
              "#ed7953"
             ],
             [
              0.7777777777777778,
              "#fb9f3a"
             ],
             [
              0.8888888888888888,
              "#fdca26"
             ],
             [
              1,
              "#f0f921"
             ]
            ],
            "type": "heatmapgl"
           }
          ],
          "histogram": [
           {
            "marker": {
             "pattern": {
              "fillmode": "overlay",
              "size": 10,
              "solidity": 0.2
             }
            },
            "type": "histogram"
           }
          ],
          "histogram2d": [
           {
            "colorbar": {
             "outlinewidth": 0,
             "ticks": ""
            },
            "colorscale": [
             [
              0,
              "#0d0887"
             ],
             [
              0.1111111111111111,
              "#46039f"
             ],
             [
              0.2222222222222222,
              "#7201a8"
             ],
             [
              0.3333333333333333,
              "#9c179e"
             ],
             [
              0.4444444444444444,
              "#bd3786"
             ],
             [
              0.5555555555555556,
              "#d8576b"
             ],
             [
              0.6666666666666666,
              "#ed7953"
             ],
             [
              0.7777777777777778,
              "#fb9f3a"
             ],
             [
              0.8888888888888888,
              "#fdca26"
             ],
             [
              1,
              "#f0f921"
             ]
            ],
            "type": "histogram2d"
           }
          ],
          "histogram2dcontour": [
           {
            "colorbar": {
             "outlinewidth": 0,
             "ticks": ""
            },
            "colorscale": [
             [
              0,
              "#0d0887"
             ],
             [
              0.1111111111111111,
              "#46039f"
             ],
             [
              0.2222222222222222,
              "#7201a8"
             ],
             [
              0.3333333333333333,
              "#9c179e"
             ],
             [
              0.4444444444444444,
              "#bd3786"
             ],
             [
              0.5555555555555556,
              "#d8576b"
             ],
             [
              0.6666666666666666,
              "#ed7953"
             ],
             [
              0.7777777777777778,
              "#fb9f3a"
             ],
             [
              0.8888888888888888,
              "#fdca26"
             ],
             [
              1,
              "#f0f921"
             ]
            ],
            "type": "histogram2dcontour"
           }
          ],
          "mesh3d": [
           {
            "colorbar": {
             "outlinewidth": 0,
             "ticks": ""
            },
            "type": "mesh3d"
           }
          ],
          "parcoords": [
           {
            "line": {
             "colorbar": {
              "outlinewidth": 0,
              "ticks": ""
             }
            },
            "type": "parcoords"
           }
          ],
          "pie": [
           {
            "automargin": true,
            "type": "pie"
           }
          ],
          "scatter": [
           {
            "marker": {
             "colorbar": {
              "outlinewidth": 0,
              "ticks": ""
             }
            },
            "type": "scatter"
           }
          ],
          "scatter3d": [
           {
            "line": {
             "colorbar": {
              "outlinewidth": 0,
              "ticks": ""
             }
            },
            "marker": {
             "colorbar": {
              "outlinewidth": 0,
              "ticks": ""
             }
            },
            "type": "scatter3d"
           }
          ],
          "scattercarpet": [
           {
            "marker": {
             "colorbar": {
              "outlinewidth": 0,
              "ticks": ""
             }
            },
            "type": "scattercarpet"
           }
          ],
          "scattergeo": [
           {
            "marker": {
             "colorbar": {
              "outlinewidth": 0,
              "ticks": ""
             }
            },
            "type": "scattergeo"
           }
          ],
          "scattergl": [
           {
            "marker": {
             "colorbar": {
              "outlinewidth": 0,
              "ticks": ""
             }
            },
            "type": "scattergl"
           }
          ],
          "scattermapbox": [
           {
            "marker": {
             "colorbar": {
              "outlinewidth": 0,
              "ticks": ""
             }
            },
            "type": "scattermapbox"
           }
          ],
          "scatterpolar": [
           {
            "marker": {
             "colorbar": {
              "outlinewidth": 0,
              "ticks": ""
             }
            },
            "type": "scatterpolar"
           }
          ],
          "scatterpolargl": [
           {
            "marker": {
             "colorbar": {
              "outlinewidth": 0,
              "ticks": ""
             }
            },
            "type": "scatterpolargl"
           }
          ],
          "scatterternary": [
           {
            "marker": {
             "colorbar": {
              "outlinewidth": 0,
              "ticks": ""
             }
            },
            "type": "scatterternary"
           }
          ],
          "surface": [
           {
            "colorbar": {
             "outlinewidth": 0,
             "ticks": ""
            },
            "colorscale": [
             [
              0,
              "#0d0887"
             ],
             [
              0.1111111111111111,
              "#46039f"
             ],
             [
              0.2222222222222222,
              "#7201a8"
             ],
             [
              0.3333333333333333,
              "#9c179e"
             ],
             [
              0.4444444444444444,
              "#bd3786"
             ],
             [
              0.5555555555555556,
              "#d8576b"
             ],
             [
              0.6666666666666666,
              "#ed7953"
             ],
             [
              0.7777777777777778,
              "#fb9f3a"
             ],
             [
              0.8888888888888888,
              "#fdca26"
             ],
             [
              1,
              "#f0f921"
             ]
            ],
            "type": "surface"
           }
          ],
          "table": [
           {
            "cells": {
             "fill": {
              "color": "#EBF0F8"
             },
             "line": {
              "color": "white"
             }
            },
            "header": {
             "fill": {
              "color": "#C8D4E3"
             },
             "line": {
              "color": "white"
             }
            },
            "type": "table"
           }
          ]
         },
         "layout": {
          "annotationdefaults": {
           "arrowcolor": "#2a3f5f",
           "arrowhead": 0,
           "arrowwidth": 1
          },
          "autotypenumbers": "strict",
          "coloraxis": {
           "colorbar": {
            "outlinewidth": 0,
            "ticks": ""
           }
          },
          "colorscale": {
           "diverging": [
            [
             0,
             "#8e0152"
            ],
            [
             0.1,
             "#c51b7d"
            ],
            [
             0.2,
             "#de77ae"
            ],
            [
             0.3,
             "#f1b6da"
            ],
            [
             0.4,
             "#fde0ef"
            ],
            [
             0.5,
             "#f7f7f7"
            ],
            [
             0.6,
             "#e6f5d0"
            ],
            [
             0.7,
             "#b8e186"
            ],
            [
             0.8,
             "#7fbc41"
            ],
            [
             0.9,
             "#4d9221"
            ],
            [
             1,
             "#276419"
            ]
           ],
           "sequential": [
            [
             0,
             "#0d0887"
            ],
            [
             0.1111111111111111,
             "#46039f"
            ],
            [
             0.2222222222222222,
             "#7201a8"
            ],
            [
             0.3333333333333333,
             "#9c179e"
            ],
            [
             0.4444444444444444,
             "#bd3786"
            ],
            [
             0.5555555555555556,
             "#d8576b"
            ],
            [
             0.6666666666666666,
             "#ed7953"
            ],
            [
             0.7777777777777778,
             "#fb9f3a"
            ],
            [
             0.8888888888888888,
             "#fdca26"
            ],
            [
             1,
             "#f0f921"
            ]
           ],
           "sequentialminus": [
            [
             0,
             "#0d0887"
            ],
            [
             0.1111111111111111,
             "#46039f"
            ],
            [
             0.2222222222222222,
             "#7201a8"
            ],
            [
             0.3333333333333333,
             "#9c179e"
            ],
            [
             0.4444444444444444,
             "#bd3786"
            ],
            [
             0.5555555555555556,
             "#d8576b"
            ],
            [
             0.6666666666666666,
             "#ed7953"
            ],
            [
             0.7777777777777778,
             "#fb9f3a"
            ],
            [
             0.8888888888888888,
             "#fdca26"
            ],
            [
             1,
             "#f0f921"
            ]
           ]
          },
          "colorway": [
           "#636efa",
           "#EF553B",
           "#00cc96",
           "#ab63fa",
           "#FFA15A",
           "#19d3f3",
           "#FF6692",
           "#B6E880",
           "#FF97FF",
           "#FECB52"
          ],
          "font": {
           "color": "#2a3f5f"
          },
          "geo": {
           "bgcolor": "white",
           "lakecolor": "white",
           "landcolor": "#E5ECF6",
           "showlakes": true,
           "showland": true,
           "subunitcolor": "white"
          },
          "hoverlabel": {
           "align": "left"
          },
          "hovermode": "closest",
          "mapbox": {
           "style": "light"
          },
          "paper_bgcolor": "white",
          "plot_bgcolor": "#E5ECF6",
          "polar": {
           "angularaxis": {
            "gridcolor": "white",
            "linecolor": "white",
            "ticks": ""
           },
           "bgcolor": "#E5ECF6",
           "radialaxis": {
            "gridcolor": "white",
            "linecolor": "white",
            "ticks": ""
           }
          },
          "scene": {
           "xaxis": {
            "backgroundcolor": "#E5ECF6",
            "gridcolor": "white",
            "gridwidth": 2,
            "linecolor": "white",
            "showbackground": true,
            "ticks": "",
            "zerolinecolor": "white"
           },
           "yaxis": {
            "backgroundcolor": "#E5ECF6",
            "gridcolor": "white",
            "gridwidth": 2,
            "linecolor": "white",
            "showbackground": true,
            "ticks": "",
            "zerolinecolor": "white"
           },
           "zaxis": {
            "backgroundcolor": "#E5ECF6",
            "gridcolor": "white",
            "gridwidth": 2,
            "linecolor": "white",
            "showbackground": true,
            "ticks": "",
            "zerolinecolor": "white"
           }
          },
          "shapedefaults": {
           "line": {
            "color": "#2a3f5f"
           }
          },
          "ternary": {
           "aaxis": {
            "gridcolor": "white",
            "linecolor": "white",
            "ticks": ""
           },
           "baxis": {
            "gridcolor": "white",
            "linecolor": "white",
            "ticks": ""
           },
           "bgcolor": "#E5ECF6",
           "caxis": {
            "gridcolor": "white",
            "linecolor": "white",
            "ticks": ""
           }
          },
          "title": {
           "x": 0.05
          },
          "xaxis": {
           "automargin": true,
           "gridcolor": "white",
           "linecolor": "white",
           "ticks": "",
           "title": {
            "standoff": 15
           },
           "zerolinecolor": "white",
           "zerolinewidth": 2
          },
          "yaxis": {
           "automargin": true,
           "gridcolor": "white",
           "linecolor": "white",
           "ticks": "",
           "title": {
            "standoff": 15
           },
           "zerolinecolor": "white",
           "zerolinewidth": 2
          }
         }
        },
        "title": {
         "text": "各縣市之機構種類數量"
        },
        "xaxis": {
         "anchor": "y",
         "domain": [
          0,
          1
         ],
         "title": {
          "text": "O_ABC"
         }
        },
        "yaxis": {
         "anchor": "x",
         "domain": [
          0,
          1
         ],
         "title": {
          "text": "freguency"
         }
        }
       }
      },
      "text/html": [
       "<div>                            <div id=\"d2408dce-9a36-4bdd-a5b3-561aa7243670\" class=\"plotly-graph-div\" style=\"height:525px; width:100%;\"></div>            <script type=\"text/javascript\">                require([\"plotly\"], function(Plotly) {                    window.PLOTLYENV=window.PLOTLYENV || {};                                    if (document.getElementById(\"d2408dce-9a36-4bdd-a5b3-561aa7243670\")) {                    Plotly.newPlot(                        \"d2408dce-9a36-4bdd-a5b3-561aa7243670\",                        [{\"alignmentgroup\":\"True\",\"hovertemplate\":\"O_ABC=%{x}<br>freguency=%{y}<extra></extra>\",\"legendgroup\":\"\",\"marker\":{\"color\":\"#636efa\",\"pattern\":{\"shape\":\"\"}},\"name\":\"\",\"offsetgroup\":\"\",\"orientation\":\"v\",\"showlegend\":false,\"textposition\":\"auto\",\"x\":[\"B\",\"C\",\"A\"],\"xaxis\":\"x\",\"y\":[2414,813,143],\"yaxis\":\"y\",\"type\":\"bar\"}],                        {\"template\":{\"data\":{\"bar\":[{\"error_x\":{\"color\":\"#2a3f5f\"},\"error_y\":{\"color\":\"#2a3f5f\"},\"marker\":{\"line\":{\"color\":\"#E5ECF6\",\"width\":0.5},\"pattern\":{\"fillmode\":\"overlay\",\"size\":10,\"solidity\":0.2}},\"type\":\"bar\"}],\"barpolar\":[{\"marker\":{\"line\":{\"color\":\"#E5ECF6\",\"width\":0.5},\"pattern\":{\"fillmode\":\"overlay\",\"size\":10,\"solidity\":0.2}},\"type\":\"barpolar\"}],\"carpet\":[{\"aaxis\":{\"endlinecolor\":\"#2a3f5f\",\"gridcolor\":\"white\",\"linecolor\":\"white\",\"minorgridcolor\":\"white\",\"startlinecolor\":\"#2a3f5f\"},\"baxis\":{\"endlinecolor\":\"#2a3f5f\",\"gridcolor\":\"white\",\"linecolor\":\"white\",\"minorgridcolor\":\"white\",\"startlinecolor\":\"#2a3f5f\"},\"type\":\"carpet\"}],\"choropleth\":[{\"colorbar\":{\"outlinewidth\":0,\"ticks\":\"\"},\"type\":\"choropleth\"}],\"contour\":[{\"colorbar\":{\"outlinewidth\":0,\"ticks\":\"\"},\"colorscale\":[[0.0,\"#0d0887\"],[0.1111111111111111,\"#46039f\"],[0.2222222222222222,\"#7201a8\"],[0.3333333333333333,\"#9c179e\"],[0.4444444444444444,\"#bd3786\"],[0.5555555555555556,\"#d8576b\"],[0.6666666666666666,\"#ed7953\"],[0.7777777777777778,\"#fb9f3a\"],[0.8888888888888888,\"#fdca26\"],[1.0,\"#f0f921\"]],\"type\":\"contour\"}],\"contourcarpet\":[{\"colorbar\":{\"outlinewidth\":0,\"ticks\":\"\"},\"type\":\"contourcarpet\"}],\"heatmap\":[{\"colorbar\":{\"outlinewidth\":0,\"ticks\":\"\"},\"colorscale\":[[0.0,\"#0d0887\"],[0.1111111111111111,\"#46039f\"],[0.2222222222222222,\"#7201a8\"],[0.3333333333333333,\"#9c179e\"],[0.4444444444444444,\"#bd3786\"],[0.5555555555555556,\"#d8576b\"],[0.6666666666666666,\"#ed7953\"],[0.7777777777777778,\"#fb9f3a\"],[0.8888888888888888,\"#fdca26\"],[1.0,\"#f0f921\"]],\"type\":\"heatmap\"}],\"heatmapgl\":[{\"colorbar\":{\"outlinewidth\":0,\"ticks\":\"\"},\"colorscale\":[[0.0,\"#0d0887\"],[0.1111111111111111,\"#46039f\"],[0.2222222222222222,\"#7201a8\"],[0.3333333333333333,\"#9c179e\"],[0.4444444444444444,\"#bd3786\"],[0.5555555555555556,\"#d8576b\"],[0.6666666666666666,\"#ed7953\"],[0.7777777777777778,\"#fb9f3a\"],[0.8888888888888888,\"#fdca26\"],[1.0,\"#f0f921\"]],\"type\":\"heatmapgl\"}],\"histogram\":[{\"marker\":{\"pattern\":{\"fillmode\":\"overlay\",\"size\":10,\"solidity\":0.2}},\"type\":\"histogram\"}],\"histogram2d\":[{\"colorbar\":{\"outlinewidth\":0,\"ticks\":\"\"},\"colorscale\":[[0.0,\"#0d0887\"],[0.1111111111111111,\"#46039f\"],[0.2222222222222222,\"#7201a8\"],[0.3333333333333333,\"#9c179e\"],[0.4444444444444444,\"#bd3786\"],[0.5555555555555556,\"#d8576b\"],[0.6666666666666666,\"#ed7953\"],[0.7777777777777778,\"#fb9f3a\"],[0.8888888888888888,\"#fdca26\"],[1.0,\"#f0f921\"]],\"type\":\"histogram2d\"}],\"histogram2dcontour\":[{\"colorbar\":{\"outlinewidth\":0,\"ticks\":\"\"},\"colorscale\":[[0.0,\"#0d0887\"],[0.1111111111111111,\"#46039f\"],[0.2222222222222222,\"#7201a8\"],[0.3333333333333333,\"#9c179e\"],[0.4444444444444444,\"#bd3786\"],[0.5555555555555556,\"#d8576b\"],[0.6666666666666666,\"#ed7953\"],[0.7777777777777778,\"#fb9f3a\"],[0.8888888888888888,\"#fdca26\"],[1.0,\"#f0f921\"]],\"type\":\"histogram2dcontour\"}],\"mesh3d\":[{\"colorbar\":{\"outlinewidth\":0,\"ticks\":\"\"},\"type\":\"mesh3d\"}],\"parcoords\":[{\"line\":{\"colorbar\":{\"outlinewidth\":0,\"ticks\":\"\"}},\"type\":\"parcoords\"}],\"pie\":[{\"automargin\":true,\"type\":\"pie\"}],\"scatter\":[{\"marker\":{\"colorbar\":{\"outlinewidth\":0,\"ticks\":\"\"}},\"type\":\"scatter\"}],\"scatter3d\":[{\"line\":{\"colorbar\":{\"outlinewidth\":0,\"ticks\":\"\"}},\"marker\":{\"colorbar\":{\"outlinewidth\":0,\"ticks\":\"\"}},\"type\":\"scatter3d\"}],\"scattercarpet\":[{\"marker\":{\"colorbar\":{\"outlinewidth\":0,\"ticks\":\"\"}},\"type\":\"scattercarpet\"}],\"scattergeo\":[{\"marker\":{\"colorbar\":{\"outlinewidth\":0,\"ticks\":\"\"}},\"type\":\"scattergeo\"}],\"scattergl\":[{\"marker\":{\"colorbar\":{\"outlinewidth\":0,\"ticks\":\"\"}},\"type\":\"scattergl\"}],\"scattermapbox\":[{\"marker\":{\"colorbar\":{\"outlinewidth\":0,\"ticks\":\"\"}},\"type\":\"scattermapbox\"}],\"scatterpolar\":[{\"marker\":{\"colorbar\":{\"outlinewidth\":0,\"ticks\":\"\"}},\"type\":\"scatterpolar\"}],\"scatterpolargl\":[{\"marker\":{\"colorbar\":{\"outlinewidth\":0,\"ticks\":\"\"}},\"type\":\"scatterpolargl\"}],\"scatterternary\":[{\"marker\":{\"colorbar\":{\"outlinewidth\":0,\"ticks\":\"\"}},\"type\":\"scatterternary\"}],\"surface\":[{\"colorbar\":{\"outlinewidth\":0,\"ticks\":\"\"},\"colorscale\":[[0.0,\"#0d0887\"],[0.1111111111111111,\"#46039f\"],[0.2222222222222222,\"#7201a8\"],[0.3333333333333333,\"#9c179e\"],[0.4444444444444444,\"#bd3786\"],[0.5555555555555556,\"#d8576b\"],[0.6666666666666666,\"#ed7953\"],[0.7777777777777778,\"#fb9f3a\"],[0.8888888888888888,\"#fdca26\"],[1.0,\"#f0f921\"]],\"type\":\"surface\"}],\"table\":[{\"cells\":{\"fill\":{\"color\":\"#EBF0F8\"},\"line\":{\"color\":\"white\"}},\"header\":{\"fill\":{\"color\":\"#C8D4E3\"},\"line\":{\"color\":\"white\"}},\"type\":\"table\"}]},\"layout\":{\"annotationdefaults\":{\"arrowcolor\":\"#2a3f5f\",\"arrowhead\":0,\"arrowwidth\":1},\"autotypenumbers\":\"strict\",\"coloraxis\":{\"colorbar\":{\"outlinewidth\":0,\"ticks\":\"\"}},\"colorscale\":{\"diverging\":[[0,\"#8e0152\"],[0.1,\"#c51b7d\"],[0.2,\"#de77ae\"],[0.3,\"#f1b6da\"],[0.4,\"#fde0ef\"],[0.5,\"#f7f7f7\"],[0.6,\"#e6f5d0\"],[0.7,\"#b8e186\"],[0.8,\"#7fbc41\"],[0.9,\"#4d9221\"],[1,\"#276419\"]],\"sequential\":[[0.0,\"#0d0887\"],[0.1111111111111111,\"#46039f\"],[0.2222222222222222,\"#7201a8\"],[0.3333333333333333,\"#9c179e\"],[0.4444444444444444,\"#bd3786\"],[0.5555555555555556,\"#d8576b\"],[0.6666666666666666,\"#ed7953\"],[0.7777777777777778,\"#fb9f3a\"],[0.8888888888888888,\"#fdca26\"],[1.0,\"#f0f921\"]],\"sequentialminus\":[[0.0,\"#0d0887\"],[0.1111111111111111,\"#46039f\"],[0.2222222222222222,\"#7201a8\"],[0.3333333333333333,\"#9c179e\"],[0.4444444444444444,\"#bd3786\"],[0.5555555555555556,\"#d8576b\"],[0.6666666666666666,\"#ed7953\"],[0.7777777777777778,\"#fb9f3a\"],[0.8888888888888888,\"#fdca26\"],[1.0,\"#f0f921\"]]},\"colorway\":[\"#636efa\",\"#EF553B\",\"#00cc96\",\"#ab63fa\",\"#FFA15A\",\"#19d3f3\",\"#FF6692\",\"#B6E880\",\"#FF97FF\",\"#FECB52\"],\"font\":{\"color\":\"#2a3f5f\"},\"geo\":{\"bgcolor\":\"white\",\"lakecolor\":\"white\",\"landcolor\":\"#E5ECF6\",\"showlakes\":true,\"showland\":true,\"subunitcolor\":\"white\"},\"hoverlabel\":{\"align\":\"left\"},\"hovermode\":\"closest\",\"mapbox\":{\"style\":\"light\"},\"paper_bgcolor\":\"white\",\"plot_bgcolor\":\"#E5ECF6\",\"polar\":{\"angularaxis\":{\"gridcolor\":\"white\",\"linecolor\":\"white\",\"ticks\":\"\"},\"bgcolor\":\"#E5ECF6\",\"radialaxis\":{\"gridcolor\":\"white\",\"linecolor\":\"white\",\"ticks\":\"\"}},\"scene\":{\"xaxis\":{\"backgroundcolor\":\"#E5ECF6\",\"gridcolor\":\"white\",\"gridwidth\":2,\"linecolor\":\"white\",\"showbackground\":true,\"ticks\":\"\",\"zerolinecolor\":\"white\"},\"yaxis\":{\"backgroundcolor\":\"#E5ECF6\",\"gridcolor\":\"white\",\"gridwidth\":2,\"linecolor\":\"white\",\"showbackground\":true,\"ticks\":\"\",\"zerolinecolor\":\"white\"},\"zaxis\":{\"backgroundcolor\":\"#E5ECF6\",\"gridcolor\":\"white\",\"gridwidth\":2,\"linecolor\":\"white\",\"showbackground\":true,\"ticks\":\"\",\"zerolinecolor\":\"white\"}},\"shapedefaults\":{\"line\":{\"color\":\"#2a3f5f\"}},\"ternary\":{\"aaxis\":{\"gridcolor\":\"white\",\"linecolor\":\"white\",\"ticks\":\"\"},\"baxis\":{\"gridcolor\":\"white\",\"linecolor\":\"white\",\"ticks\":\"\"},\"bgcolor\":\"#E5ECF6\",\"caxis\":{\"gridcolor\":\"white\",\"linecolor\":\"white\",\"ticks\":\"\"}},\"title\":{\"x\":0.05},\"xaxis\":{\"automargin\":true,\"gridcolor\":\"white\",\"linecolor\":\"white\",\"ticks\":\"\",\"title\":{\"standoff\":15},\"zerolinecolor\":\"white\",\"zerolinewidth\":2},\"yaxis\":{\"automargin\":true,\"gridcolor\":\"white\",\"linecolor\":\"white\",\"ticks\":\"\",\"title\":{\"standoff\":15},\"zerolinecolor\":\"white\",\"zerolinewidth\":2}}},\"xaxis\":{\"anchor\":\"y\",\"domain\":[0.0,1.0],\"title\":{\"text\":\"O_ABC\"}},\"yaxis\":{\"anchor\":\"x\",\"domain\":[0.0,1.0],\"title\":{\"text\":\"freguency\"}},\"legend\":{\"tracegroupgap\":0},\"title\":{\"text\":\"\\u5404\\u7e23\\u5e02\\u4e4b\\u6a5f\\u69cb\\u7a2e\\u985e\\u6578\\u91cf\"},\"barmode\":\"relative\"},                        {\"responsive\": true}                    ).then(function(){\n",
       "                            \n",
       "var gd = document.getElementById('d2408dce-9a36-4bdd-a5b3-561aa7243670');\n",
       "var x = new MutationObserver(function (mutations, observer) {{\n",
       "        var display = window.getComputedStyle(gd).display;\n",
       "        if (!display || display === 'none') {{\n",
       "            console.log([gd, 'removed!']);\n",
       "            Plotly.purge(gd);\n",
       "            observer.disconnect();\n",
       "        }}\n",
       "}});\n",
       "\n",
       "// Listen for the removal of the full notebook cells\n",
       "var notebookContainer = gd.closest('#notebook-container');\n",
       "if (notebookContainer) {{\n",
       "    x.observe(notebookContainer, {childList: true});\n",
       "}}\n",
       "\n",
       "// Listen for the clearing of the current output cell\n",
       "var outputEl = gd.closest('.output');\n",
       "if (outputEl) {{\n",
       "    x.observe(outputEl, {childList: true});\n",
       "}}\n",
       "\n",
       "                        })                };                });            </script>        </div>"
      ]
     },
     "metadata": {},
     "output_type": "display_data"
    }
   ],
   "source": [
    "import plotly.express as px\n",
    "import pandas as pd\n",
    "\n",
    "px.bar(result, x='O_ABC', y='freguency', title='各縣市之機構種類數量')"
   ]
  },
  {
   "cell_type": "code",
   "execution_count": 45,
   "id": "ad3fb3c1",
   "metadata": {},
   "outputs": [
    {
     "data": {
      "text/html": [
       "<div>\n",
       "<style scoped>\n",
       "    .dataframe tbody tr th:only-of-type {\n",
       "        vertical-align: middle;\n",
       "    }\n",
       "\n",
       "    .dataframe tbody tr th {\n",
       "        vertical-align: top;\n",
       "    }\n",
       "\n",
       "    .dataframe thead th {\n",
       "        text-align: right;\n",
       "    }\n",
       "</style>\n",
       "<table border=\"1\" class=\"dataframe\">\n",
       "  <thead>\n",
       "    <tr style=\"text-align: right;\">\n",
       "      <th></th>\n",
       "      <th>機構名稱</th>\n",
       "      <th>機構種類</th>\n",
       "      <th>縣市</th>\n",
       "      <th>區</th>\n",
       "      <th>地址全址</th>\n",
       "      <th>O_ABC</th>\n",
       "      <th>特約服務項目</th>\n",
       "      <th>特約縣市</th>\n",
       "      <th>特約區域</th>\n",
       "      <th>機構電話</th>\n",
       "      <th>機構負責人姓名</th>\n",
       "      <th>seg</th>\n",
       "    </tr>\n",
       "  </thead>\n",
       "  <tbody>\n",
       "    <tr>\n",
       "      <th>0</th>\n",
       "      <td>銀之家長照股份有限公司附設彰化縣私立銀之家居家長照機構</td>\n",
       "      <td>1</td>\n",
       "      <td>10007</td>\n",
       "      <td>10007160</td>\n",
       "      <td>彰化縣永靖鄉瑚璉村多福路49號</td>\n",
       "      <td>B</td>\n",
       "      <td>居家服務</td>\n",
       "      <td>10007</td>\n",
       "      <td>10007010;10007020;10007030;10007040;10007050;1...</td>\n",
       "      <td>48220758</td>\n",
       "      <td>凃俊任</td>\n",
       "      <td>[服務, 居家]</td>\n",
       "    </tr>\n",
       "    <tr>\n",
       "      <th>1</th>\n",
       "      <td>財團法人台中市私立真愛社會福利慈善事業基金會附設私立共好社區長照機構</td>\n",
       "      <td>2</td>\n",
       "      <td>66000</td>\n",
       "      <td>66000280</td>\n",
       "      <td>臺中市大里區新里里13鄰鄰永隆路132號2樓</td>\n",
       "      <td>B</td>\n",
       "      <td>喘息服務</td>\n",
       "      <td>66000</td>\n",
       "      <td>66000010;66000020;66000030;66000040;66000050;6...</td>\n",
       "      <td>04-24062622</td>\n",
       "      <td>李頴彥</td>\n",
       "      <td>[服務, 喘息]</td>\n",
       "    </tr>\n",
       "    <tr>\n",
       "      <th>2</th>\n",
       "      <td>宜寧居家護理所</td>\n",
       "      <td>B1</td>\n",
       "      <td>63000</td>\n",
       "      <td>63000110</td>\n",
       "      <td>臺北市士林區前港里承德路四段235號9樓</td>\n",
       "      <td>B</td>\n",
       "      <td>專業照護服務</td>\n",
       "      <td>65000</td>\n",
       "      <td>65000010;65000020;65000030;65000040;65000050;6...</td>\n",
       "      <td>02-28822382</td>\n",
       "      <td>張肇仙</td>\n",
       "      <td>[專業, 照護, 服務]</td>\n",
       "    </tr>\n",
       "    <tr>\n",
       "      <th>3</th>\n",
       "      <td>彰化基督教醫療財團法人彰化基督教醫院</td>\n",
       "      <td>B2</td>\n",
       "      <td>10007</td>\n",
       "      <td>10007010</td>\n",
       "      <td>彰化縣彰化市南校街135號</td>\n",
       "      <td>B</td>\n",
       "      <td>交通接送服務</td>\n",
       "      <td>10007</td>\n",
       "      <td>NaN</td>\n",
       "      <td>04-7238595#8466</td>\n",
       "      <td>陳穆寬</td>\n",
       "      <td>[服務, 接送, 交通]</td>\n",
       "    </tr>\n",
       "    <tr>\n",
       "      <th>4</th>\n",
       "      <td>基隆市私立美綠居家護理所居家式服務類長期照顧服務機構</td>\n",
       "      <td>1</td>\n",
       "      <td>10017</td>\n",
       "      <td>10017050</td>\n",
       "      <td>基隆市中山區中山里中山一路121號</td>\n",
       "      <td>B</td>\n",
       "      <td>喘息服務</td>\n",
       "      <td>10017</td>\n",
       "      <td>10017010;10017020;10017030;10017040;10017050;1...</td>\n",
       "      <td>02-24251695</td>\n",
       "      <td>李珮菁</td>\n",
       "      <td>[服務, 喘息]</td>\n",
       "    </tr>\n",
       "    <tr>\n",
       "      <th>...</th>\n",
       "      <td>...</td>\n",
       "      <td>...</td>\n",
       "      <td>...</td>\n",
       "      <td>...</td>\n",
       "      <td>...</td>\n",
       "      <td>...</td>\n",
       "      <td>...</td>\n",
       "      <td>...</td>\n",
       "      <td>...</td>\n",
       "      <td>...</td>\n",
       "      <td>...</td>\n",
       "      <td>...</td>\n",
       "    </tr>\n",
       "    <tr>\n",
       "      <th>3363</th>\n",
       "      <td>高雄市私立家福居家長照機構</td>\n",
       "      <td>1</td>\n",
       "      <td>64000</td>\n",
       "      <td>64000090</td>\n",
       "      <td>高雄市前鎮區西甲里一心二路128號7樓之1(713室)</td>\n",
       "      <td>B</td>\n",
       "      <td>居家服務</td>\n",
       "      <td>64000</td>\n",
       "      <td>64000050;64000060;64000080;64000090;64000110;6...</td>\n",
       "      <td>(07)3315836</td>\n",
       "      <td>彭雅芬</td>\n",
       "      <td>[服務, 居家]</td>\n",
       "    </tr>\n",
       "    <tr>\n",
       "      <th>3364</th>\n",
       "      <td>新北市私立沐心老人長期照顧中心(養護型)</td>\n",
       "      <td>A1</td>\n",
       "      <td>65000</td>\n",
       "      <td>65000020</td>\n",
       "      <td>新北市三重區中興里重新路五段635之2號1-3樓</td>\n",
       "      <td>B</td>\n",
       "      <td>喘息服務</td>\n",
       "      <td>65000</td>\n",
       "      <td>65000010;65000020;65000030;65000040;65000050;6...</td>\n",
       "      <td>02-29990737</td>\n",
       "      <td>王寶琇</td>\n",
       "      <td>[服務, 喘息]</td>\n",
       "    </tr>\n",
       "    <tr>\n",
       "      <th>3366</th>\n",
       "      <td>廣元長照社團法人附設桃園市私立元德綜合長照機構</td>\n",
       "      <td>4</td>\n",
       "      <td>68000</td>\n",
       "      <td>68000010</td>\n",
       "      <td>桃園市桃園區泰山里003鄰潮洲街78號1樓</td>\n",
       "      <td>B</td>\n",
       "      <td>居家服務</td>\n",
       "      <td>68000</td>\n",
       "      <td>68000010</td>\n",
       "      <td>03-3322049</td>\n",
       "      <td>黃晟恆</td>\n",
       "      <td>[服務, 居家]</td>\n",
       "    </tr>\n",
       "    <tr>\n",
       "      <th>3367</th>\n",
       "      <td>高雄市私立珍愛家人社區(家庭托顧)長照機構</td>\n",
       "      <td>2</td>\n",
       "      <td>64000</td>\n",
       "      <td>64000150</td>\n",
       "      <td>高雄市大樹區九曲里九曲路125巷15號</td>\n",
       "      <td>B</td>\n",
       "      <td>家庭托顧服務</td>\n",
       "      <td>64000</td>\n",
       "      <td>64000010;64000020;64000030;64000040;64000050;6...</td>\n",
       "      <td>988871162</td>\n",
       "      <td>向言珍</td>\n",
       "      <td>[托顧, 服務, 家庭]</td>\n",
       "    </tr>\n",
       "    <tr>\n",
       "      <th>3368</th>\n",
       "      <td>社團法人南投縣慈慧善行協會</td>\n",
       "      <td>BE</td>\n",
       "      <td>10008</td>\n",
       "      <td>10008050</td>\n",
       "      <td>南投縣集集鎮和平里民生路342號</td>\n",
       "      <td>B</td>\n",
       "      <td>營養餐飲服務</td>\n",
       "      <td>10008</td>\n",
       "      <td>10008050;10008110</td>\n",
       "      <td>049-2763012</td>\n",
       "      <td>林烈煌</td>\n",
       "      <td>[營養餐, 服務]</td>\n",
       "    </tr>\n",
       "  </tbody>\n",
       "</table>\n",
       "<p>2414 rows × 12 columns</p>\n",
       "</div>"
      ],
      "text/plain": [
       "                                    機構名稱 機構種類     縣市         區  \\\n",
       "0            銀之家長照股份有限公司附設彰化縣私立銀之家居家長照機構    1  10007  10007160   \n",
       "1     財團法人台中市私立真愛社會福利慈善事業基金會附設私立共好社區長照機構    2  66000  66000280   \n",
       "2                                宜寧居家護理所   B1  63000  63000110   \n",
       "3                     彰化基督教醫療財團法人彰化基督教醫院   B2  10007  10007010   \n",
       "4             基隆市私立美綠居家護理所居家式服務類長期照顧服務機構    1  10017  10017050   \n",
       "...                                  ...  ...    ...       ...   \n",
       "3363                       高雄市私立家福居家長照機構    1  64000  64000090   \n",
       "3364                新北市私立沐心老人長期照顧中心(養護型)   A1  65000  65000020   \n",
       "3366             廣元長照社團法人附設桃園市私立元德綜合長照機構    4  68000  68000010   \n",
       "3367               高雄市私立珍愛家人社區(家庭托顧)長照機構    2  64000  64000150   \n",
       "3368                       社團法人南投縣慈慧善行協會   BE  10008  10008050   \n",
       "\n",
       "                             地址全址 O_ABC  特約服務項目   特約縣市  \\\n",
       "0                 彰化縣永靖鄉瑚璉村多福路49號     B    居家服務  10007   \n",
       "1          臺中市大里區新里里13鄰鄰永隆路132號2樓     B    喘息服務  66000   \n",
       "2            臺北市士林區前港里承德路四段235號9樓     B  專業照護服務  65000   \n",
       "3                   彰化縣彰化市南校街135號     B  交通接送服務  10007   \n",
       "4               基隆市中山區中山里中山一路121號     B    喘息服務  10017   \n",
       "...                           ...   ...     ...    ...   \n",
       "3363  高雄市前鎮區西甲里一心二路128號7樓之1(713室)     B    居家服務  64000   \n",
       "3364     新北市三重區中興里重新路五段635之2號1-3樓     B    喘息服務  65000   \n",
       "3366        桃園市桃園區泰山里003鄰潮洲街78號1樓     B    居家服務  68000   \n",
       "3367          高雄市大樹區九曲里九曲路125巷15號     B  家庭托顧服務  64000   \n",
       "3368             南投縣集集鎮和平里民生路342號     B  營養餐飲服務  10008   \n",
       "\n",
       "                                                   特約區域             機構電話  \\\n",
       "0     10007010;10007020;10007030;10007040;10007050;1...         48220758   \n",
       "1     66000010;66000020;66000030;66000040;66000050;6...      04-24062622   \n",
       "2     65000010;65000020;65000030;65000040;65000050;6...      02-28822382   \n",
       "3                                                   NaN  04-7238595#8466   \n",
       "4     10017010;10017020;10017030;10017040;10017050;1...      02-24251695   \n",
       "...                                                 ...              ...   \n",
       "3363  64000050;64000060;64000080;64000090;64000110;6...      (07)3315836   \n",
       "3364  65000010;65000020;65000030;65000040;65000050;6...      02-29990737   \n",
       "3366                                           68000010       03-3322049   \n",
       "3367  64000010;64000020;64000030;64000040;64000050;6...        988871162   \n",
       "3368                                  10008050;10008110      049-2763012   \n",
       "\n",
       "     機構負責人姓名           seg  \n",
       "0        凃俊任      [服務, 居家]  \n",
       "1        李頴彥      [服務, 喘息]  \n",
       "2        張肇仙  [專業, 照護, 服務]  \n",
       "3        陳穆寬  [服務, 接送, 交通]  \n",
       "4        李珮菁      [服務, 喘息]  \n",
       "...      ...           ...  \n",
       "3363     彭雅芬      [服務, 居家]  \n",
       "3364     王寶琇      [服務, 喘息]  \n",
       "3366     黃晟恆      [服務, 居家]  \n",
       "3367     向言珍  [托顧, 服務, 家庭]  \n",
       "3368     林烈煌     [營養餐, 服務]  \n",
       "\n",
       "[2414 rows x 12 columns]"
      ]
     },
     "execution_count": 45,
     "metadata": {},
     "output_type": "execute_result"
    }
   ],
   "source": [
    "show_sub = orgdata['O_ABC']=='B'\n",
    "subdata = orgdata[show_sub]\n",
    "subdata"
   ]
  },
  {
   "cell_type": "code",
   "execution_count": 46,
   "id": "15b63843",
   "metadata": {},
   "outputs": [
    {
     "data": {
      "text/plain": [
       "pandas.core.series.Series"
      ]
     },
     "execution_count": 46,
     "metadata": {},
     "output_type": "execute_result"
    }
   ],
   "source": [
    "type(subdata['seg'])"
   ]
  },
  {
   "cell_type": "code",
   "execution_count": 47,
   "id": "659e84b5",
   "metadata": {},
   "outputs": [
    {
     "data": {
      "text/plain": [
       "list"
      ]
     },
     "execution_count": 47,
     "metadata": {},
     "output_type": "execute_result"
    }
   ],
   "source": [
    "subdata_seg_list = subdata['seg'].tolist()\n",
    "type(subdata_seg_list)"
   ]
  },
  {
   "cell_type": "code",
   "execution_count": 48,
   "id": "1cff2603",
   "metadata": {},
   "outputs": [
    {
     "data": {
      "text/plain": [
       "[['服務', '居家'],\n",
       " ['服務', '喘息'],\n",
       " ['專業', '照護', '服務'],\n",
       " ['服務', '接送', '交通'],\n",
       " ['服務', '喘息'],\n",
       " ['服務', '喘息'],\n",
       " ['服務', '居家'],\n",
       " ['失能', '醫師', '照護', '服務', '居家', '家庭'],\n",
       " ['輔具', '無障礙', '環境', '服務', '居家'],\n",
       " ['日間', '照顧', '服務'],\n",
       " ['專業', '照護', '服務'],\n",
       " ['營養餐', '服務'],\n",
       " ['服務', '接送', '交通'],\n",
       " ['服務', '接送', '交通'],\n",
       " ['服務', '喘息'],\n",
       " ['日間', '照顧', '服務'],\n",
       " ['服務', '喘息'],\n",
       " ['服務', '喘息'],\n",
       " ['小規模', '服務'],\n",
       " ['服務', '接送', '交通'],\n",
       " ['日間', '照顧', '服務'],\n",
       " ['服務', '喘息'],\n",
       " ['專業', '照護', '服務'],\n",
       " ['服務', '喘息'],\n",
       " ['專業', '照護', '服務'],\n",
       " ['服務', '喘息'],\n",
       " ['服務', '喘息'],\n",
       " ['服務', '居家'],\n",
       " ['服務', '喘息'],\n",
       " ['服務', '喘息'],\n",
       " ['服務', '喘息'],\n",
       " ['服務', '居家'],\n",
       " ['服務', '喘息'],\n",
       " ['專業', '照護', '服務'],\n",
       " ['服務', '接送', '交通'],\n",
       " ['專業', '照護', '服務'],\n",
       " ['托顧', '服務', '家庭'],\n",
       " ['服務', '居家'],\n",
       " ['服務', '居家'],\n",
       " ['日間', '照顧', '服務'],\n",
       " ['輔具', '無障礙', '環境', '服務', '居家'],\n",
       " ['失能', '醫師', '照護', '服務', '居家', '家庭'],\n",
       " ['服務', '喘息'],\n",
       " ['服務', '喘息'],\n",
       " ['服務', '居家'],\n",
       " ['服務', '喘息'],\n",
       " ['服務', '居家'],\n",
       " ['服務', '喘息'],\n",
       " ['失能', '醫師', '照護', '服務', '居家', '家庭'],\n",
       " ['服務', '居家'],\n",
       " ['服務', '喘息'],\n",
       " ['服務', '喘息'],\n",
       " ['服務', '喘息'],\n",
       " ['小規模', '服務'],\n",
       " ['專業', '照護', '服務'],\n",
       " ['服務', '喘息'],\n",
       " ['服務', '居家'],\n",
       " ['托顧', '服務', '家庭'],\n",
       " ['服務', '居家'],\n",
       " ['服務', '喘息'],\n",
       " ['服務', '喘息'],\n",
       " ['服務', '喘息'],\n",
       " ['失能', '醫師', '照護', '服務', '居家', '家庭'],\n",
       " ['日間', '照顧', '服務'],\n",
       " ['失能', '醫師', '照護', '服務', '居家', '家庭'],\n",
       " ['服務', '居家'],\n",
       " ['服務', '居家'],\n",
       " ['專業', '照護', '服務'],\n",
       " ['團體', '服務'],\n",
       " ['日間', '照顧', '服務'],\n",
       " ['服務', '喘息'],\n",
       " ['日間', '照顧', '服務'],\n",
       " ['服務', '接送', '交通'],\n",
       " ['服務', '喘息'],\n",
       " ['服務', '喘息'],\n",
       " ['專業', '照護', '服務'],\n",
       " ['專業', '照護', '服務'],\n",
       " ['營養餐', '服務'],\n",
       " ['專業', '照護', '服務'],\n",
       " ['服務', '喘息'],\n",
       " ['服務', '居家'],\n",
       " ['服務', '居家'],\n",
       " ['服務', '喘息'],\n",
       " ['服務', '喘息'],\n",
       " ['服務', '喘息'],\n",
       " ['輔具', '無障礙', '環境', '服務', '居家'],\n",
       " ['專業', '照護', '服務'],\n",
       " ['專業', '照護', '服務'],\n",
       " ['日間', '照顧', '服務'],\n",
       " ['專業', '照護', '服務'],\n",
       " ['專業', '照護', '服務'],\n",
       " ['服務', '居家'],\n",
       " ['專業', '照護', '服務'],\n",
       " ['專業', '照護', '服務'],\n",
       " ['專業', '照護', '服務'],\n",
       " ['服務', '喘息'],\n",
       " ['服務', '喘息'],\n",
       " ['服務', '居家'],\n",
       " ['服務', '喘息'],\n",
       " ['日間', '照顧', '服務'],\n",
       " ['專業', '照護', '服務'],\n",
       " ['服務', '喘息'],\n",
       " ['專業', '照護', '服務'],\n",
       " ['失能', '醫師', '照護', '服務', '居家', '家庭'],\n",
       " ['日間', '照顧', '服務'],\n",
       " ['服務', '居家'],\n",
       " ['服務', '喘息'],\n",
       " ['服務', '喘息'],\n",
       " ['日間', '照顧', '服務'],\n",
       " ['營養餐', '服務'],\n",
       " ['服務', '喘息'],\n",
       " ['專業', '照護', '服務'],\n",
       " ['服務', '喘息'],\n",
       " ['失能', '醫師', '照護', '服務', '居家', '家庭'],\n",
       " ['服務', '喘息'],\n",
       " ['服務', '居家'],\n",
       " ['失能', '醫師', '照護', '服務', '居家', '家庭'],\n",
       " ['服務', '喘息'],\n",
       " ['服務', '居家'],\n",
       " ['營養餐', '服務'],\n",
       " ['專業', '照護', '服務'],\n",
       " ['服務', '接送', '交通'],\n",
       " ['專業', '照護', '服務'],\n",
       " ['服務', '喘息'],\n",
       " ['服務', '居家'],\n",
       " ['營養餐', '服務'],\n",
       " ['日間', '照顧', '服務'],\n",
       " ['服務', '居家'],\n",
       " ['服務', '居家'],\n",
       " ['服務', '喘息'],\n",
       " ['專業', '照護', '服務'],\n",
       " ['服務', '喘息'],\n",
       " ['服務', '喘息'],\n",
       " ['輔具', '無障礙', '環境', '服務', '居家'],\n",
       " ['服務', '接送', '交通'],\n",
       " ['服務', '居家'],\n",
       " ['失能', '醫師', '照護', '服務', '居家', '家庭'],\n",
       " ['服務', '喘息'],\n",
       " ['服務', '居家'],\n",
       " ['專業', '照護', '服務'],\n",
       " ['服務', '喘息'],\n",
       " ['服務', '喘息'],\n",
       " ['專業', '照護', '服務'],\n",
       " ['托顧', '服務', '家庭'],\n",
       " ['服務', '居家'],\n",
       " ['失能', '醫師', '照護', '服務', '居家', '家庭'],\n",
       " ['服務', '喘息'],\n",
       " ['專業', '照護', '服務'],\n",
       " ['服務', '喘息'],\n",
       " ['服務', '喘息'],\n",
       " ['服務', '喘息'],\n",
       " ['服務', '居家'],\n",
       " ['服務', '居家'],\n",
       " ['輔具', '無障礙', '環境', '服務', '居家'],\n",
       " ['服務', '喘息'],\n",
       " ['服務', '喘息'],\n",
       " ['服務', '居家'],\n",
       " ['專業', '照護', '服務'],\n",
       " ['專業', '照護', '服務'],\n",
       " ['服務', '居家'],\n",
       " ['服務', '居家'],\n",
       " ['服務', '喘息'],\n",
       " ['服務', '居家'],\n",
       " ['服務', '喘息'],\n",
       " ['服務', '居家'],\n",
       " ['專業', '照護', '服務'],\n",
       " ['日間', '照顧', '服務'],\n",
       " ['托顧', '服務', '家庭'],\n",
       " ['專業', '照護', '服務'],\n",
       " ['服務', '居家'],\n",
       " ['服務', '喘息'],\n",
       " ['營養餐', '服務'],\n",
       " ['服務', '居家'],\n",
       " ['服務', '居家'],\n",
       " ['日間', '照顧', '服務'],\n",
       " ['服務', '喘息'],\n",
       " ['輔具', '無障礙', '環境', '服務', '居家'],\n",
       " ['失能', '醫師', '照護', '服務', '居家', '家庭'],\n",
       " ['專業', '照護', '服務'],\n",
       " ['服務', '喘息'],\n",
       " ['車服務', '沐浴'],\n",
       " ['服務', '喘息'],\n",
       " ['日間', '照顧', '服務'],\n",
       " ['日間', '照顧', '服務'],\n",
       " ['專業', '照護', '服務'],\n",
       " ['服務', '居家'],\n",
       " ['服務', '居家'],\n",
       " ['專業', '照護', '服務'],\n",
       " ['服務', '居家'],\n",
       " ['服務', '喘息'],\n",
       " ['服務', '喘息'],\n",
       " ['日間', '照顧', '服務'],\n",
       " ['專業', '照護', '服務'],\n",
       " ['營養餐', '服務'],\n",
       " ['服務', '喘息'],\n",
       " ['服務', '喘息'],\n",
       " ['專業', '照護', '服務'],\n",
       " ['服務', '居家'],\n",
       " ['服務', '居家'],\n",
       " ['輔具', '無障礙', '環境', '服務', '居家'],\n",
       " ['服務', '喘息'],\n",
       " ['服務', '喘息'],\n",
       " ['專業', '照護', '服務'],\n",
       " ['服務', '喘息'],\n",
       " ['專業', '照護', '服務'],\n",
       " ['服務', '喘息'],\n",
       " ['服務', '喘息'],\n",
       " ['服務', '喘息'],\n",
       " ['服務', '居家'],\n",
       " ['服務', '居家'],\n",
       " ['服務', '喘息'],\n",
       " ['服務', '接送', '交通'],\n",
       " ['服務', '喘息'],\n",
       " ['日間', '照顧', '服務'],\n",
       " ['服務', '喘息'],\n",
       " ['失能', '醫師', '照護', '服務', '居家', '家庭'],\n",
       " ['日間', '照顧', '服務'],\n",
       " ['輔具', '無障礙', '環境', '服務', '居家'],\n",
       " ['服務', '喘息'],\n",
       " ['服務', '喘息'],\n",
       " ['專業', '照護', '服務'],\n",
       " ['專業', '照護', '服務'],\n",
       " ['營養餐', '服務'],\n",
       " ['服務', '喘息'],\n",
       " ['服務', '喘息'],\n",
       " ['服務', '喘息'],\n",
       " ['服務', '喘息'],\n",
       " ['服務', '喘息'],\n",
       " ['服務', '喘息'],\n",
       " ['服務', '喘息'],\n",
       " ['服務', '居家'],\n",
       " ['服務', '喘息'],\n",
       " ['服務', '喘息'],\n",
       " ['服務', '接送', '交通'],\n",
       " ['輔具', '無障礙', '環境', '服務', '居家'],\n",
       " ['服務', '接送', '交通'],\n",
       " ['失能', '醫師', '照護', '服務', '居家', '家庭'],\n",
       " ['專業', '照護', '服務'],\n",
       " ['服務', '喘息'],\n",
       " ['服務', '居家'],\n",
       " ['專業', '照護', '服務'],\n",
       " ['服務', '喘息'],\n",
       " ['服務', '居家'],\n",
       " ['失能', '醫師', '照護', '服務', '居家', '家庭'],\n",
       " ['服務', '喘息'],\n",
       " ['服務', '居家'],\n",
       " ['專業', '照護', '服務'],\n",
       " ['服務', '喘息'],\n",
       " ['服務', '居家'],\n",
       " ['服務', '喘息'],\n",
       " ['服務', '喘息'],\n",
       " ['服務', '居家'],\n",
       " ['服務', '喘息'],\n",
       " ['服務', '喘息'],\n",
       " ['失能', '醫師', '照護', '服務', '居家', '家庭'],\n",
       " ['服務', '居家'],\n",
       " ['服務', '喘息'],\n",
       " ['專業', '照護', '服務'],\n",
       " ['失能', '醫師', '照護', '服務', '居家', '家庭'],\n",
       " ['營養餐', '服務'],\n",
       " ['日間', '照顧', '服務'],\n",
       " ['服務', '喘息'],\n",
       " ['服務', '居家'],\n",
       " ['失能', '醫師', '照護', '服務', '居家', '家庭'],\n",
       " ['服務', '居家'],\n",
       " ['服務', '居家'],\n",
       " ['服務', '喘息'],\n",
       " ['專業', '照護', '服務'],\n",
       " ['專業', '照護', '服務'],\n",
       " ['服務', '喘息'],\n",
       " ['服務', '喘息'],\n",
       " ['失能', '醫師', '照護', '服務', '居家', '家庭'],\n",
       " ['專業', '照護', '服務'],\n",
       " ['服務', '喘息'],\n",
       " ['服務', '喘息'],\n",
       " ['專業', '照護', '服務'],\n",
       " ['服務', '喘息'],\n",
       " ['服務', '接送', '交通'],\n",
       " ['小規模', '服務'],\n",
       " ['服務', '喘息'],\n",
       " ['服務', '居家'],\n",
       " ['服務', '居家'],\n",
       " ['服務', '接送', '交通'],\n",
       " ['服務', '喘息'],\n",
       " ['失能', '醫師', '照護', '服務', '居家', '家庭'],\n",
       " ['失能', '醫師', '照護', '服務', '居家', '家庭'],\n",
       " ['服務', '居家'],\n",
       " ['專業', '照護', '服務'],\n",
       " ['服務', '喘息'],\n",
       " ['日間', '照顧', '服務'],\n",
       " ['服務', '喘息'],\n",
       " ['專業', '照護', '服務'],\n",
       " ['服務', '喘息'],\n",
       " ['服務', '居家'],\n",
       " ['服務', '喘息'],\n",
       " ['服務', '喘息'],\n",
       " ['服務', '喘息'],\n",
       " ['服務', '喘息'],\n",
       " ['日間', '照顧', '服務'],\n",
       " ['服務', '居家'],\n",
       " ['輔具', '無障礙', '環境', '服務', '居家'],\n",
       " ['服務', '喘息'],\n",
       " ['服務', '喘息'],\n",
       " ['日間', '照顧', '服務'],\n",
       " ['服務', '居家'],\n",
       " ['失能', '醫師', '照護', '服務', '居家', '家庭'],\n",
       " ['日間', '照顧', '服務'],\n",
       " ['服務', '居家'],\n",
       " ['專業', '照護', '服務'],\n",
       " ['專業', '照護', '服務'],\n",
       " ['日間', '照顧', '服務'],\n",
       " ['服務', '喘息'],\n",
       " ['服務', '喘息'],\n",
       " ['服務', '喘息'],\n",
       " ['服務', '喘息'],\n",
       " ['輔具', '無障礙', '環境', '服務', '居家'],\n",
       " ['專業', '照護', '服務'],\n",
       " ['服務', '喘息'],\n",
       " ['服務', '喘息'],\n",
       " ['服務', '喘息'],\n",
       " ['失能', '醫師', '照護', '服務', '居家', '家庭'],\n",
       " ['服務', '喘息'],\n",
       " ['服務', '居家'],\n",
       " ['失能', '醫師', '照護', '服務', '居家', '家庭'],\n",
       " ['服務', '居家'],\n",
       " ['服務', '喘息'],\n",
       " ['服務', '居家'],\n",
       " ['專業', '照護', '服務'],\n",
       " ['服務', '喘息'],\n",
       " ['托顧', '服務', '家庭'],\n",
       " ['服務', '喘息'],\n",
       " ['托顧', '服務', '家庭'],\n",
       " ['日間', '照顧', '服務'],\n",
       " ['托顧', '服務', '家庭'],\n",
       " ['服務', '居家'],\n",
       " ['服務', '喘息'],\n",
       " ['服務', '喘息'],\n",
       " ['服務', '居家'],\n",
       " ['失能', '醫師', '照護', '服務', '居家', '家庭'],\n",
       " ['服務', '喘息'],\n",
       " ['服務', '接送', '交通'],\n",
       " ['服務', '接送', '交通'],\n",
       " ['專業', '照護', '服務'],\n",
       " ['專業', '照護', '服務'],\n",
       " ['小規模', '服務'],\n",
       " ['日間', '照顧', '服務'],\n",
       " ['營養餐', '服務'],\n",
       " ['服務', '喘息'],\n",
       " ['服務', '喘息'],\n",
       " ['服務', '接送', '交通'],\n",
       " ['服務', '喘息'],\n",
       " ['服務', '居家'],\n",
       " ['服務', '喘息'],\n",
       " ['服務', '居家'],\n",
       " ['失能', '醫師', '照護', '服務', '居家', '家庭'],\n",
       " ['服務', '喘息'],\n",
       " ['服務', '喘息'],\n",
       " ['服務', '喘息'],\n",
       " ['服務', '喘息'],\n",
       " ['服務', '喘息'],\n",
       " ['服務', '接送', '交通'],\n",
       " ['服務', '喘息'],\n",
       " ['專業', '照護', '服務'],\n",
       " ['服務', '喘息'],\n",
       " ['日間', '照顧', '服務'],\n",
       " ['專業', '照護', '服務'],\n",
       " ['小規模', '服務'],\n",
       " ['服務', '喘息'],\n",
       " ['服務', '喘息'],\n",
       " ['服務', '喘息'],\n",
       " ['服務', '喘息'],\n",
       " ['日間', '照顧', '服務'],\n",
       " ['服務', '喘息'],\n",
       " ['失能', '醫師', '照護', '服務', '居家', '家庭'],\n",
       " ['輔具', '無障礙', '環境', '服務', '居家'],\n",
       " ['輔具', '無障礙', '環境', '服務', '居家'],\n",
       " ['服務', '喘息'],\n",
       " ['服務', '居家'],\n",
       " ['托顧', '服務', '家庭'],\n",
       " ['服務', '居家'],\n",
       " ['服務', '喘息'],\n",
       " ['日間', '照顧', '服務'],\n",
       " ['服務', '喘息'],\n",
       " ['服務', '喘息'],\n",
       " ['日間', '照顧', '服務'],\n",
       " ['服務', '喘息'],\n",
       " ['服務', '喘息'],\n",
       " ['日間', '照顧', '服務'],\n",
       " ['服務', '居家'],\n",
       " ['服務', '居家'],\n",
       " ['輔具', '無障礙', '環境', '服務', '居家'],\n",
       " ['輔具', '無障礙', '環境', '服務', '居家'],\n",
       " ['服務', '喘息'],\n",
       " ['專業', '照護', '服務'],\n",
       " ['服務', '喘息'],\n",
       " ['服務', '居家'],\n",
       " ['專業', '照護', '服務'],\n",
       " ['失能', '醫師', '照護', '服務', '居家', '家庭'],\n",
       " ['專業', '照護', '服務'],\n",
       " ['服務', '喘息'],\n",
       " ['失能', '醫師', '照護', '服務', '居家', '家庭'],\n",
       " ['服務', '居家'],\n",
       " ['日間', '照顧', '服務'],\n",
       " ['服務', '接送', '交通'],\n",
       " ['小規模', '服務'],\n",
       " ['服務', '喘息'],\n",
       " ['服務', '喘息'],\n",
       " ['服務', '喘息'],\n",
       " ['專業', '照護', '服務'],\n",
       " ['專業', '照護', '服務'],\n",
       " ['服務', '喘息'],\n",
       " ['失能', '醫師', '照護', '服務', '居家', '家庭'],\n",
       " ['服務', '喘息'],\n",
       " ['專業', '照護', '服務'],\n",
       " ['失能', '醫師', '照護', '服務', '居家', '家庭'],\n",
       " ['服務', '居家'],\n",
       " ['服務', '居家'],\n",
       " ['服務', '喘息'],\n",
       " ['專業', '照護', '服務'],\n",
       " ['服務', '喘息'],\n",
       " ['服務', '居家'],\n",
       " ['服務', '喘息'],\n",
       " ['專業', '照護', '服務'],\n",
       " ['托顧', '服務', '家庭'],\n",
       " ['服務', '喘息'],\n",
       " ['專業', '照護', '服務'],\n",
       " ['專業', '照護', '服務'],\n",
       " ['車服務', '沐浴'],\n",
       " ['服務', '居家'],\n",
       " ['專業', '照護', '服務'],\n",
       " ['服務', '喘息'],\n",
       " ['服務', '接送', '交通'],\n",
       " ['服務', '居家'],\n",
       " ['托顧', '服務', '家庭'],\n",
       " ['專業', '照護', '服務'],\n",
       " ['服務', '喘息'],\n",
       " ['托顧', '服務', '家庭'],\n",
       " ['專業', '照護', '服務'],\n",
       " ['失能', '醫師', '照護', '服務', '居家', '家庭'],\n",
       " ['服務', '喘息'],\n",
       " ['服務', '居家'],\n",
       " ['服務', '居家'],\n",
       " ['服務', '喘息'],\n",
       " ['日間', '照顧', '服務'],\n",
       " ['服務', '喘息'],\n",
       " ['托顧', '服務', '家庭'],\n",
       " ['服務', '喘息'],\n",
       " ['服務', '喘息'],\n",
       " ['服務', '喘息'],\n",
       " ['日間', '照顧', '服務'],\n",
       " ['服務', '喘息'],\n",
       " ['專業', '照護', '服務'],\n",
       " ['輔具', '無障礙', '環境', '服務', '居家'],\n",
       " ['專業', '照護', '服務'],\n",
       " ['服務', '居家'],\n",
       " ['服務', '喘息'],\n",
       " ['服務', '喘息'],\n",
       " ['服務', '喘息'],\n",
       " ['專業', '照護', '服務'],\n",
       " ['服務', '喘息'],\n",
       " ['專業', '照護', '服務'],\n",
       " ['服務', '喘息'],\n",
       " ['服務', '喘息'],\n",
       " ['服務', '喘息'],\n",
       " ['失能', '醫師', '照護', '服務', '居家', '家庭'],\n",
       " ['服務', '居家'],\n",
       " ['服務', '喘息'],\n",
       " ['輔具', '無障礙', '環境', '服務', '居家'],\n",
       " ['日間', '照顧', '服務'],\n",
       " ['專業', '照護', '服務'],\n",
       " ['服務', '喘息'],\n",
       " ['服務', '居家'],\n",
       " ['托顧', '服務', '家庭'],\n",
       " ['服務', '喘息'],\n",
       " ['失能', '醫師', '照護', '服務', '居家', '家庭'],\n",
       " ['服務', '居家'],\n",
       " ['專業', '照護', '服務'],\n",
       " ['日間', '照顧', '服務'],\n",
       " ['服務', '喘息'],\n",
       " ['服務', '喘息'],\n",
       " ['服務', '喘息'],\n",
       " ['專業', '照護', '服務'],\n",
       " ['專業', '照護', '服務'],\n",
       " ['專業', '照護', '服務'],\n",
       " ['服務', '接送', '交通'],\n",
       " ['小規模', '服務'],\n",
       " ['服務', '喘息'],\n",
       " ['日間', '照顧', '服務'],\n",
       " ['日間', '照顧', '服務'],\n",
       " ['專業', '照護', '服務'],\n",
       " ['失能', '醫師', '照護', '服務', '居家', '家庭'],\n",
       " ['失能', '醫師', '照護', '服務', '居家', '家庭'],\n",
       " ['服務', '喘息'],\n",
       " ['服務', '居家'],\n",
       " ['服務', '居家'],\n",
       " ['服務', '喘息'],\n",
       " ['服務', '喘息'],\n",
       " ['服務', '喘息'],\n",
       " ['服務', '喘息'],\n",
       " ['服務', '居家'],\n",
       " ['服務', '喘息'],\n",
       " ['服務', '居家'],\n",
       " ['專業', '照護', '服務'],\n",
       " ['服務', '喘息'],\n",
       " ['服務', '喘息'],\n",
       " ['失能', '醫師', '照護', '服務', '居家', '家庭'],\n",
       " ['服務', '喘息'],\n",
       " ['服務', '居家'],\n",
       " ['服務', '喘息'],\n",
       " ['服務', '居家'],\n",
       " ['日間', '照顧', '服務'],\n",
       " ['輔具', '無障礙', '環境', '服務', '居家'],\n",
       " ['服務', '居家'],\n",
       " ['失能', '醫師', '照護', '服務', '居家', '家庭'],\n",
       " ['營養餐', '服務'],\n",
       " ['日間', '照顧', '服務'],\n",
       " ['服務', '喘息'],\n",
       " ['服務', '居家'],\n",
       " ['服務', '喘息'],\n",
       " ['輔具', '無障礙', '環境', '服務', '居家'],\n",
       " ['服務', '居家'],\n",
       " ['服務', '喘息'],\n",
       " ['專業', '照護', '服務'],\n",
       " ['失能', '醫師', '照護', '服務', '居家', '家庭'],\n",
       " ['服務', '接送', '交通'],\n",
       " ['專業', '照護', '服務'],\n",
       " ['服務', '喘息'],\n",
       " ['小規模', '服務'],\n",
       " ['失能', '醫師', '照護', '服務', '居家', '家庭'],\n",
       " ['服務', '喘息'],\n",
       " ['服務', '居家'],\n",
       " ['服務', '喘息'],\n",
       " ['服務', '喘息'],\n",
       " ['服務', '喘息'],\n",
       " ['服務', '喘息'],\n",
       " ['失能', '醫師', '照護', '服務', '居家', '家庭'],\n",
       " ['日間', '照顧', '服務'],\n",
       " ['失能', '醫師', '照護', '服務', '居家', '家庭'],\n",
       " ['失能', '醫師', '照護', '服務', '居家', '家庭'],\n",
       " ['服務', '喘息'],\n",
       " ['專業', '照護', '服務'],\n",
       " ['服務', '喘息'],\n",
       " ['服務', '喘息'],\n",
       " ['服務', '喘息'],\n",
       " ['專業', '照護', '服務'],\n",
       " ['托顧', '服務', '家庭'],\n",
       " ['服務', '喘息'],\n",
       " ['日間', '照顧', '服務'],\n",
       " ['輔具', '無障礙', '環境', '服務', '居家'],\n",
       " ['服務', '喘息'],\n",
       " ['服務', '居家'],\n",
       " ['專業', '照護', '服務'],\n",
       " ['服務', '接送', '交通'],\n",
       " ['輔具', '無障礙', '環境', '服務', '居家'],\n",
       " ['服務', '喘息'],\n",
       " ['日間', '照顧', '服務'],\n",
       " ['服務', '喘息'],\n",
       " ['服務', '喘息'],\n",
       " ['托顧', '服務', '家庭'],\n",
       " ['服務', '居家'],\n",
       " ['服務', '喘息'],\n",
       " ['服務', '喘息'],\n",
       " ['失能', '醫師', '照護', '服務', '居家', '家庭'],\n",
       " ['服務', '喘息'],\n",
       " ['專業', '照護', '服務'],\n",
       " ['服務', '居家'],\n",
       " ['失能', '醫師', '照護', '服務', '居家', '家庭'],\n",
       " ['服務', '居家'],\n",
       " ['服務', '喘息'],\n",
       " ['服務', '居家'],\n",
       " ['輔具', '無障礙', '環境', '服務', '居家'],\n",
       " ['服務', '居家'],\n",
       " ['服務', '居家'],\n",
       " ['失能', '醫師', '照護', '服務', '居家', '家庭'],\n",
       " ['營養餐', '服務'],\n",
       " ['托顧', '服務', '家庭'],\n",
       " ['服務', '喘息'],\n",
       " ['服務', '喘息'],\n",
       " ['專業', '照護', '服務'],\n",
       " ['服務', '喘息'],\n",
       " ['營養餐', '服務'],\n",
       " ['服務', '接送', '交通'],\n",
       " ['服務', '喘息'],\n",
       " ['服務', '喘息'],\n",
       " ['服務', '居家'],\n",
       " ['服務', '喘息'],\n",
       " ['服務', '居家'],\n",
       " ['服務', '居家'],\n",
       " ['服務', '居家'],\n",
       " ['服務', '喘息'],\n",
       " ['服務', '喘息'],\n",
       " ['服務', '喘息'],\n",
       " ['服務', '居家'],\n",
       " ['服務', '居家'],\n",
       " ['服務', '喘息'],\n",
       " ['服務', '喘息'],\n",
       " ['輔具', '無障礙', '環境', '服務', '居家'],\n",
       " ['服務', '喘息'],\n",
       " ['服務', '居家'],\n",
       " ['服務', '喘息'],\n",
       " ['服務', '喘息'],\n",
       " ['服務', '喘息'],\n",
       " ['服務', '居家'],\n",
       " ['托顧', '服務', '家庭'],\n",
       " ['專業', '照護', '服務'],\n",
       " ['專業', '照護', '服務'],\n",
       " ['服務', '喘息'],\n",
       " ['專業', '照護', '服務'],\n",
       " ['失能', '醫師', '照護', '服務', '居家', '家庭'],\n",
       " ['服務', '喘息'],\n",
       " ['服務', '接送', '交通'],\n",
       " ['失能', '醫師', '照護', '服務', '居家', '家庭'],\n",
       " ['服務', '喘息'],\n",
       " ['服務', '喘息'],\n",
       " ['專業', '照護', '服務'],\n",
       " ['營養餐', '服務'],\n",
       " ['日間', '照顧', '服務'],\n",
       " ['日間', '照顧', '服務'],\n",
       " ['服務', '居家'],\n",
       " ['服務', '居家'],\n",
       " ['失能', '醫師', '照護', '服務', '居家', '家庭'],\n",
       " ['輔具', '無障礙', '環境', '服務', '居家'],\n",
       " ['服務', '喘息'],\n",
       " ['營養餐', '服務'],\n",
       " ['服務', '居家'],\n",
       " ['服務', '接送', '交通'],\n",
       " ['營養餐', '服務'],\n",
       " ['日間', '照顧', '服務'],\n",
       " ['服務', '居家'],\n",
       " ['服務', '居家'],\n",
       " ['輔具', '無障礙', '環境', '服務', '居家'],\n",
       " ['小規模', '服務'],\n",
       " ['服務', '居家'],\n",
       " ['專業', '照護', '服務'],\n",
       " ['失能', '醫師', '照護', '服務', '居家', '家庭'],\n",
       " ['服務', '喘息'],\n",
       " ['服務', '喘息'],\n",
       " ['輔具', '無障礙', '環境', '服務', '居家'],\n",
       " ['營養餐', '服務'],\n",
       " ['專業', '照護', '服務'],\n",
       " ['日間', '照顧', '服務'],\n",
       " ['專業', '照護', '服務'],\n",
       " ['服務', '居家'],\n",
       " ['失能', '醫師', '照護', '服務', '居家', '家庭'],\n",
       " ['服務', '喘息'],\n",
       " ['服務', '喘息'],\n",
       " ['失能', '醫師', '照護', '服務', '居家', '家庭'],\n",
       " ['服務', '接送', '交通'],\n",
       " ['輔具', '無障礙', '環境', '服務', '居家'],\n",
       " ['專業', '照護', '服務'],\n",
       " ['服務', '喘息'],\n",
       " ['服務', '喘息'],\n",
       " ['專業', '照護', '服務'],\n",
       " ['服務', '喘息'],\n",
       " ['輔具', '無障礙', '環境', '服務', '居家'],\n",
       " ['服務', '喘息'],\n",
       " ['失能', '醫師', '照護', '服務', '居家', '家庭'],\n",
       " ['失能', '醫師', '照護', '服務', '居家', '家庭'],\n",
       " ['服務', '喘息'],\n",
       " ['服務', '接送', '交通'],\n",
       " ['專業', '照護', '服務'],\n",
       " ['服務', '居家'],\n",
       " ['服務', '居家'],\n",
       " ['輔具', '無障礙', '環境', '服務', '居家'],\n",
       " ['服務', '接送', '交通'],\n",
       " ['失能', '醫師', '照護', '服務', '居家', '家庭'],\n",
       " ['失能', '醫師', '照護', '服務', '居家', '家庭'],\n",
       " ['服務', '喘息'],\n",
       " ['專業', '照護', '服務'],\n",
       " ['日間', '照顧', '服務'],\n",
       " ['專業', '照護', '服務'],\n",
       " ['專業', '照護', '服務'],\n",
       " ['專業', '照護', '服務'],\n",
       " ['服務', '喘息'],\n",
       " ['失能', '醫師', '照護', '服務', '居家', '家庭'],\n",
       " ['服務', '接送', '交通'],\n",
       " ['服務', '喘息'],\n",
       " ['托顧', '服務', '家庭'],\n",
       " ['專業', '照護', '服務'],\n",
       " ['營養餐', '服務'],\n",
       " ['服務', '喘息'],\n",
       " ['服務', '喘息'],\n",
       " ['日間', '照顧', '服務'],\n",
       " ['服務', '居家'],\n",
       " ['服務', '喘息'],\n",
       " ['服務', '喘息'],\n",
       " ['服務', '接送', '交通'],\n",
       " ['服務', '喘息'],\n",
       " ['服務', '喘息'],\n",
       " ['專業', '照護', '服務'],\n",
       " ['服務', '喘息'],\n",
       " ['日間', '照顧', '服務'],\n",
       " ['服務', '喘息'],\n",
       " ['服務', '喘息'],\n",
       " ['失能', '醫師', '照護', '服務', '居家', '家庭'],\n",
       " ['服務', '居家'],\n",
       " ['專業', '照護', '服務'],\n",
       " ['服務', '居家'],\n",
       " ['專業', '照護', '服務'],\n",
       " ['服務', '喘息'],\n",
       " ['失能', '醫師', '照護', '服務', '居家', '家庭'],\n",
       " ['服務', '喘息'],\n",
       " ['營養餐', '服務'],\n",
       " ['專業', '照護', '服務'],\n",
       " ['專業', '照護', '服務'],\n",
       " ['失能', '醫師', '照護', '服務', '居家', '家庭'],\n",
       " ['服務', '喘息'],\n",
       " ['服務', '喘息'],\n",
       " ['服務', '喘息'],\n",
       " ['服務', '居家'],\n",
       " ['營養餐', '服務'],\n",
       " ['服務', '接送', '交通'],\n",
       " ['服務', '喘息'],\n",
       " ['專業', '照護', '服務'],\n",
       " ['服務', '喘息'],\n",
       " ['服務', '喘息'],\n",
       " ['托顧', '服務', '家庭'],\n",
       " ['服務', '喘息'],\n",
       " ['專業', '照護', '服務'],\n",
       " ['小規模', '服務'],\n",
       " ['服務', '居家'],\n",
       " ['服務', '接送', '交通'],\n",
       " ['專業', '照護', '服務'],\n",
       " ['服務', '喘息'],\n",
       " ['服務', '喘息'],\n",
       " ['服務', '喘息'],\n",
       " ['服務', '喘息'],\n",
       " ['日間', '照顧', '服務'],\n",
       " ['輔具', '無障礙', '環境', '服務', '居家'],\n",
       " ['服務', '喘息'],\n",
       " ['營養餐', '服務'],\n",
       " ['服務', '喘息'],\n",
       " ['服務', '居家'],\n",
       " ['專業', '照護', '服務'],\n",
       " ['專業', '照護', '服務'],\n",
       " ['服務', '喘息'],\n",
       " ['服務', '喘息'],\n",
       " ['輔具', '無障礙', '環境', '服務', '居家'],\n",
       " ['服務', '喘息'],\n",
       " ['服務', '喘息'],\n",
       " ['服務', '喘息'],\n",
       " ['失能', '醫師', '照護', '服務', '居家', '家庭'],\n",
       " ['服務', '喘息'],\n",
       " ['營養餐', '服務'],\n",
       " ['專業', '照護', '服務'],\n",
       " ['服務', '喘息'],\n",
       " ['專業', '照護', '服務'],\n",
       " ['服務', '居家'],\n",
       " ['服務', '居家'],\n",
       " ['輔具', '無障礙', '環境', '服務', '居家'],\n",
       " ['服務', '喘息'],\n",
       " ['失能', '醫師', '照護', '服務', '居家', '家庭'],\n",
       " ['服務', '喘息'],\n",
       " ['服務', '喘息'],\n",
       " ['服務', '喘息'],\n",
       " ['服務', '喘息'],\n",
       " ['失能', '醫師', '照護', '服務', '居家', '家庭'],\n",
       " ['服務', '喘息'],\n",
       " ['服務', '接送', '交通'],\n",
       " ['日間', '照顧', '服務'],\n",
       " ['服務', '居家'],\n",
       " ['服務', '居家'],\n",
       " ['服務', '居家'],\n",
       " ['服務', '喘息'],\n",
       " ['服務', '居家'],\n",
       " ['服務', '喘息'],\n",
       " ['服務', '居家'],\n",
       " ['服務', '接送', '交通'],\n",
       " ['服務', '喘息'],\n",
       " ['服務', '接送', '交通'],\n",
       " ['服務', '居家'],\n",
       " ['日間', '照顧', '服務'],\n",
       " ['專業', '照護', '服務'],\n",
       " ['日間', '照顧', '服務'],\n",
       " ['服務', '喘息'],\n",
       " ['托顧', '服務', '家庭'],\n",
       " ['服務', '喘息'],\n",
       " ['日間', '照顧', '服務'],\n",
       " ['服務', '喘息'],\n",
       " ['服務', '喘息'],\n",
       " ['日間', '照顧', '服務'],\n",
       " ['營養餐', '服務'],\n",
       " ['服務', '喘息'],\n",
       " ['失能', '醫師', '照護', '服務', '居家', '家庭'],\n",
       " ['服務', '喘息'],\n",
       " ['服務', '喘息'],\n",
       " ['服務', '喘息'],\n",
       " ['服務', '喘息'],\n",
       " ['營養餐', '服務'],\n",
       " ['營養餐', '服務'],\n",
       " ['服務', '喘息'],\n",
       " ['失能', '醫師', '照護', '服務', '居家', '家庭'],\n",
       " ['營養餐', '服務'],\n",
       " ['服務', '接送', '交通'],\n",
       " ['服務', '喘息'],\n",
       " ['輔具', '無障礙', '環境', '服務', '居家'],\n",
       " ['營養餐', '服務'],\n",
       " ['服務', '喘息'],\n",
       " ['服務', '接送', '交通'],\n",
       " ['輔具', '無障礙', '環境', '服務', '居家'],\n",
       " ['日間', '照顧', '服務'],\n",
       " ['服務', '喘息'],\n",
       " ['服務', '喘息'],\n",
       " ['專業', '照護', '服務'],\n",
       " ['日間', '照顧', '服務'],\n",
       " ['服務', '喘息'],\n",
       " ['服務', '喘息'],\n",
       " ['服務', '喘息'],\n",
       " ['服務', '喘息'],\n",
       " ['輔具', '無障礙', '環境', '服務', '居家'],\n",
       " ['服務', '喘息'],\n",
       " ['服務', '喘息'],\n",
       " ['服務', '喘息'],\n",
       " ['服務', '居家'],\n",
       " ['專業', '照護', '服務'],\n",
       " ['失能', '醫師', '照護', '服務', '居家', '家庭'],\n",
       " ['輔具', '無障礙', '環境', '服務', '居家'],\n",
       " ['專業', '照護', '服務'],\n",
       " ['失能', '醫師', '照護', '服務', '居家', '家庭'],\n",
       " ['托顧', '服務', '家庭'],\n",
       " ['服務', '喘息'],\n",
       " ['輔具', '無障礙', '環境', '服務', '居家'],\n",
       " ['日間', '照顧', '服務'],\n",
       " ['服務', '喘息'],\n",
       " ['服務', '居家'],\n",
       " ['服務', '喘息'],\n",
       " ['專業', '照護', '服務'],\n",
       " ['服務', '喘息'],\n",
       " ['托顧', '服務', '家庭'],\n",
       " ['服務', '接送', '交通'],\n",
       " ['失能', '醫師', '照護', '服務', '居家', '家庭'],\n",
       " ['專業', '照護', '服務'],\n",
       " ['服務', '喘息'],\n",
       " ['服務', '喘息'],\n",
       " ['失能', '醫師', '照護', '服務', '居家', '家庭'],\n",
       " ['服務', '居家'],\n",
       " ['輔具', '無障礙', '環境', '服務', '居家'],\n",
       " ['專業', '照護', '服務'],\n",
       " ['托顧', '服務', '家庭'],\n",
       " ['輔具', '無障礙', '環境', '服務', '居家'],\n",
       " ['營養餐', '服務'],\n",
       " ['服務', '喘息'],\n",
       " ['專業', '照護', '服務'],\n",
       " ['服務', '喘息'],\n",
       " ['服務', '接送', '交通'],\n",
       " ['專業', '照護', '服務'],\n",
       " ['服務', '喘息'],\n",
       " ['服務', '接送', '交通'],\n",
       " ['失能', '醫師', '照護', '服務', '居家', '家庭'],\n",
       " ['日間', '照顧', '服務'],\n",
       " ['失能', '醫師', '照護', '服務', '居家', '家庭'],\n",
       " ['托顧', '服務', '家庭'],\n",
       " ['服務', '喘息'],\n",
       " ['服務', '喘息'],\n",
       " ['服務', '居家'],\n",
       " ['服務', '居家'],\n",
       " ['專業', '照護', '服務'],\n",
       " ['專業', '照護', '服務'],\n",
       " ['服務', '喘息'],\n",
       " ['服務', '喘息'],\n",
       " ['服務', '居家'],\n",
       " ['日間', '照顧', '服務'],\n",
       " ['服務', '接送', '交通'],\n",
       " ['服務', '喘息'],\n",
       " ['服務', '接送', '交通'],\n",
       " ['失能', '醫師', '照護', '服務', '居家', '家庭'],\n",
       " ['服務', '喘息'],\n",
       " ['專業', '照護', '服務'],\n",
       " ['服務', '居家'],\n",
       " ['失能', '醫師', '照護', '服務', '居家', '家庭'],\n",
       " ['服務', '居家'],\n",
       " ['服務', '喘息'],\n",
       " ['服務', '喘息'],\n",
       " ['專業', '照護', '服務'],\n",
       " ['服務', '接送', '交通'],\n",
       " ['服務', '喘息'],\n",
       " ['服務', '喘息'],\n",
       " ['服務', '居家'],\n",
       " ['專業', '照護', '服務'],\n",
       " ['服務', '喘息'],\n",
       " ['服務', '喘息'],\n",
       " ['服務', '接送', '交通'],\n",
       " ['托顧', '服務', '家庭'],\n",
       " ['服務', '喘息'],\n",
       " ['服務', '喘息'],\n",
       " ['服務', '喘息'],\n",
       " ['失能', '醫師', '照護', '服務', '居家', '家庭'],\n",
       " ['服務', '居家'],\n",
       " ['服務', '接送', '交通'],\n",
       " ['服務', '喘息'],\n",
       " ['失能', '醫師', '照護', '服務', '居家', '家庭'],\n",
       " ['服務', '喘息'],\n",
       " ['專業', '照護', '服務'],\n",
       " ['服務', '居家'],\n",
       " ['服務', '喘息'],\n",
       " ['服務', '喘息'],\n",
       " ['服務', '居家'],\n",
       " ['服務', '喘息'],\n",
       " ['服務', '居家'],\n",
       " ['服務', '喘息'],\n",
       " ['失能', '醫師', '照護', '服務', '居家', '家庭'],\n",
       " ['專業', '照護', '服務'],\n",
       " ['服務', '居家'],\n",
       " ['服務', '居家'],\n",
       " ['服務', '喘息'],\n",
       " ['服務', '喘息'],\n",
       " ['服務', '喘息'],\n",
       " ['小規模', '服務'],\n",
       " ['專業', '照護', '服務'],\n",
       " ['服務', '喘息'],\n",
       " ['服務', '喘息'],\n",
       " ['服務', '喘息'],\n",
       " ['輔具', '無障礙', '環境', '服務', '居家'],\n",
       " ['日間', '照顧', '服務'],\n",
       " ['服務', '居家'],\n",
       " ['服務', '喘息'],\n",
       " ['服務', '喘息'],\n",
       " ['失能', '醫師', '照護', '服務', '居家', '家庭'],\n",
       " ['服務', '喘息'],\n",
       " ['服務', '接送', '交通'],\n",
       " ['服務', '居家'],\n",
       " ['服務', '居家'],\n",
       " ['服務', '接送', '交通'],\n",
       " ['服務', '居家'],\n",
       " ['服務', '喘息'],\n",
       " ['服務', '喘息'],\n",
       " ['營養餐', '服務'],\n",
       " ['服務', '喘息'],\n",
       " ['服務', '喘息'],\n",
       " ['服務', '居家'],\n",
       " ['專業', '照護', '服務'],\n",
       " ['托顧', '服務', '家庭'],\n",
       " ['輔具', '無障礙', '環境', '服務', '居家'],\n",
       " ['托顧', '服務', '家庭'],\n",
       " ['專業', '照護', '服務'],\n",
       " ['專業', '照護', '服務'],\n",
       " ['失能', '醫師', '照護', '服務', '居家', '家庭'],\n",
       " ['失能', '醫師', '照護', '服務', '居家', '家庭'],\n",
       " ['服務', '喘息'],\n",
       " ['專業', '照護', '服務'],\n",
       " ['服務', '喘息'],\n",
       " ['專業', '照護', '服務'],\n",
       " ['服務', '喘息'],\n",
       " ['托顧', '服務', '家庭'],\n",
       " ['服務', '喘息'],\n",
       " ['服務', '喘息'],\n",
       " ['服務', '居家'],\n",
       " ['日間', '照顧', '服務'],\n",
       " ['專業', '照護', '服務'],\n",
       " ['服務', '喘息'],\n",
       " ['服務', '喘息'],\n",
       " ['服務', '接送', '交通'],\n",
       " ['營養餐', '服務'],\n",
       " ['專業', '照護', '服務'],\n",
       " ['專業', '照護', '服務'],\n",
       " ['服務', '喘息'],\n",
       " ['服務', '喘息'],\n",
       " ['服務', '喘息'],\n",
       " ['服務', '喘息'],\n",
       " ['服務', '喘息'],\n",
       " ['服務', '喘息'],\n",
       " ['服務', '居家'],\n",
       " ['服務', '喘息'],\n",
       " ['日間', '照顧', '服務'],\n",
       " ['日間', '照顧', '服務'],\n",
       " ['服務', '居家'],\n",
       " ['服務', '喘息'],\n",
       " ['服務', '喘息'],\n",
       " ['服務', '喘息'],\n",
       " ['輔具', '無障礙', '環境', '服務', '居家'],\n",
       " ['服務', '喘息'],\n",
       " ['日間', '照顧', '服務'],\n",
       " ['服務', '喘息'],\n",
       " ['服務', '喘息'],\n",
       " ['營養餐', '服務'],\n",
       " ['失能', '醫師', '照護', '服務', '居家', '家庭'],\n",
       " ['服務', '喘息'],\n",
       " ['服務', '喘息'],\n",
       " ['專業', '照護', '服務'],\n",
       " ['服務', '喘息'],\n",
       " ['服務', '喘息'],\n",
       " ['專業', '照護', '服務'],\n",
       " ['服務', '喘息'],\n",
       " ['服務', '喘息'],\n",
       " ['服務', '喘息'],\n",
       " ['服務', '居家'],\n",
       " ['專業', '照護', '服務'],\n",
       " ['營養餐', '服務'],\n",
       " ['服務', '喘息'],\n",
       " ['專業', '照護', '服務'],\n",
       " ['服務', '喘息'],\n",
       " ['服務', '居家'],\n",
       " ['日間', '照顧', '服務'],\n",
       " ['服務', '居家'],\n",
       " ['服務', '喘息'],\n",
       " ['服務', '接送', '交通'],\n",
       " ['服務', '喘息'],\n",
       " ['服務', '喘息'],\n",
       " ['服務', '喘息'],\n",
       " ['服務', '接送', '交通'],\n",
       " ...]"
      ]
     },
     "execution_count": 48,
     "metadata": {},
     "output_type": "execute_result"
    }
   ],
   "source": [
    "subdata_seg_list"
   ]
  },
  {
   "cell_type": "code",
   "execution_count": 49,
   "id": "58c01d95",
   "metadata": {},
   "outputs": [],
   "source": [
    "flat = [x for sublist in subdata_seg_list for x in sublist]\n",
    "diction = Counter(flat)"
   ]
  },
  {
   "cell_type": "code",
   "execution_count": 50,
   "id": "2df68789",
   "metadata": {
    "scrolled": true
   },
   "outputs": [
    {
     "data": {
      "text/plain": [
       "dict_keys(['服務', '居家', '喘息', '專業', '照護', '接送', '交通', '失能', '醫師', '家庭', '輔具', '無障礙', '環境', '日間', '照顧', '營養餐', '小規模', '托顧', '團體', '車服務', '沐浴'])"
      ]
     },
     "execution_count": 50,
     "metadata": {},
     "output_type": "execute_result"
    }
   ],
   "source": [
    "diction.keys()"
   ]
  },
  {
   "cell_type": "code",
   "execution_count": 51,
   "id": "1ca5a8b8",
   "metadata": {},
   "outputs": [],
   "source": [
    "from PIL import Image\n",
    "import matplotlib.pyplot as plt\n",
    "from wordcloud import WordCloud"
   ]
  },
  {
   "cell_type": "code",
   "execution_count": 52,
   "id": "33a4ab18",
   "metadata": {},
   "outputs": [],
   "source": [
    "import numpy as np"
   ]
  },
  {
   "cell_type": "code",
   "execution_count": 53,
   "id": "6c2b1d21",
   "metadata": {},
   "outputs": [],
   "source": [
    "mask = np.array(Image.open(\"test.jpg\"))\n",
    "font = \"C:\\Windows\\Fonts\\MSJH.TTC\""
   ]
  },
  {
   "cell_type": "code",
   "execution_count": 54,
   "id": "b43e9ec3",
   "metadata": {},
   "outputs": [
    {
     "data": {
      "text/plain": [
       "<wordcloud.wordcloud.WordCloud at 0x1e1dec71bb0>"
      ]
     },
     "execution_count": 54,
     "metadata": {},
     "output_type": "execute_result"
    }
   ],
   "source": [
    "wordcloud = WordCloud(background_color = \"white\", font_path=font, mask = mask)\n",
    "wordcloud.generate_from_frequencies(diction)"
   ]
  },
  {
   "cell_type": "code",
   "execution_count": 55,
   "id": "facba041",
   "metadata": {},
   "outputs": [
    {
     "data": {
      "image/png": "[encoded data removed]",
      "text/plain": [
       "<Figure size 1440x1440 with 1 Axes>"
      ]
     },
     "metadata": {
      "needs_background": "light"
     },
     "output_type": "display_data"
    }
   ],
   "source": [
    "plt.figure(figsize=(20,20))\n",
    "plt.imshow(wordcloud)\n",
    "plt.axis(\"off\")\n",
    "plt.show()"
   ]
  },
  {
   "cell_type": "code",
   "execution_count": 56,
   "id": "c094aa04",
   "metadata": {},
   "outputs": [
    {
     "data": {
      "text/html": [
       "<div>\n",
       "<style scoped>\n",
       "    .dataframe tbody tr th:only-of-type {\n",
       "        vertical-align: middle;\n",
       "    }\n",
       "\n",
       "    .dataframe tbody tr th {\n",
       "        vertical-align: top;\n",
       "    }\n",
       "\n",
       "    .dataframe thead th {\n",
       "        text-align: right;\n",
       "    }\n",
       "</style>\n",
       "<table border=\"1\" class=\"dataframe\">\n",
       "  <thead>\n",
       "    <tr style=\"text-align: right;\">\n",
       "      <th></th>\n",
       "      <th>機構名稱</th>\n",
       "      <th>機構種類</th>\n",
       "      <th>縣市</th>\n",
       "      <th>區</th>\n",
       "      <th>地址全址</th>\n",
       "      <th>O_ABC</th>\n",
       "      <th>特約服務項目</th>\n",
       "      <th>特約縣市</th>\n",
       "      <th>特約區域</th>\n",
       "      <th>機構電話</th>\n",
       "      <th>機構負責人姓名</th>\n",
       "      <th>seg</th>\n",
       "    </tr>\n",
       "  </thead>\n",
       "  <tbody>\n",
       "    <tr>\n",
       "      <th>9</th>\n",
       "      <td>財團法人高雄市郭吳麗珠社會福利慈善事業基金會私立鳳山社區(日間照顧)長照機構</td>\n",
       "      <td>2</td>\n",
       "      <td>64000</td>\n",
       "      <td>64000120</td>\n",
       "      <td>高雄市鳳山區三民里光遠路222號</td>\n",
       "      <td>B</td>\n",
       "      <td>日間照顧服務</td>\n",
       "      <td>64000</td>\n",
       "      <td>64000010;64000020;64000030;64000040;64000050;6...</td>\n",
       "      <td>07-7997255</td>\n",
       "      <td>郭光皓</td>\n",
       "      <td>[日間, 照顧, 服務]</td>\n",
       "    </tr>\n",
       "    <tr>\n",
       "      <th>16</th>\n",
       "      <td>高雄醫學大學附設高雄市私立大同建國社區(日間照顧)長照機構</td>\n",
       "      <td>2</td>\n",
       "      <td>64000</td>\n",
       "      <td>64000070</td>\n",
       "      <td>高雄市前金區草江里自立二路111號</td>\n",
       "      <td>B</td>\n",
       "      <td>日間照顧服務</td>\n",
       "      <td>64000</td>\n",
       "      <td>64000010;64000020;64000030;64000040;64000050;6...</td>\n",
       "      <td>07-2850631</td>\n",
       "      <td>楊俊毓</td>\n",
       "      <td>[日間, 照顧, 服務]</td>\n",
       "    </tr>\n",
       "    <tr>\n",
       "      <th>25</th>\n",
       "      <td>佛教慈濟醫療財團法人花蓮慈濟醫院</td>\n",
       "      <td>B2</td>\n",
       "      <td>10015</td>\n",
       "      <td>10015010</td>\n",
       "      <td>花蓮縣花蓮市民勤里中央路三段707號</td>\n",
       "      <td>B</td>\n",
       "      <td>日間照顧服務</td>\n",
       "      <td>10015</td>\n",
       "      <td>10015010</td>\n",
       "      <td>03-8465020</td>\n",
       "      <td>林欣榮</td>\n",
       "      <td>[日間, 照顧, 服務]</td>\n",
       "    </tr>\n",
       "    <tr>\n",
       "      <th>57</th>\n",
       "      <td>有限責任嘉義縣翔鶴照顧服務勞動合作社附設私立翔鶴蒜頭糖廠社區長照機構</td>\n",
       "      <td>2</td>\n",
       "      <td>10010</td>\n",
       "      <td>10010080</td>\n",
       "      <td>嘉義縣六腳鄉工廠村63號</td>\n",
       "      <td>B</td>\n",
       "      <td>日間照顧服務</td>\n",
       "      <td>10010</td>\n",
       "      <td>10010010;10010020;10010030;10010040;10010050;1...</td>\n",
       "      <td>05-3805358</td>\n",
       "      <td>李杰修</td>\n",
       "      <td>[日間, 照顧, 服務]</td>\n",
       "    </tr>\n",
       "    <tr>\n",
       "      <th>89</th>\n",
       "      <td>衛生福利部朴子醫院附設社區長照機構</td>\n",
       "      <td>2</td>\n",
       "      <td>10010</td>\n",
       "      <td>10010020</td>\n",
       "      <td>嘉義縣朴子市永和里42之50號</td>\n",
       "      <td>B</td>\n",
       "      <td>日間照顧服務</td>\n",
       "      <td>10010</td>\n",
       "      <td>10010010;10010020;10010030;10010040;10010050;1...</td>\n",
       "      <td>05-3790600#243</td>\n",
       "      <td>賴仲亮</td>\n",
       "      <td>[日間, 照顧, 服務]</td>\n",
       "    </tr>\n",
       "    <tr>\n",
       "      <th>...</th>\n",
       "      <td>...</td>\n",
       "      <td>...</td>\n",
       "      <td>...</td>\n",
       "      <td>...</td>\n",
       "      <td>...</td>\n",
       "      <td>...</td>\n",
       "      <td>...</td>\n",
       "      <td>...</td>\n",
       "      <td>...</td>\n",
       "      <td>...</td>\n",
       "      <td>...</td>\n",
       "      <td>...</td>\n",
       "    </tr>\n",
       "    <tr>\n",
       "      <th>3243</th>\n",
       "      <td>南投縣私立草屯長期照顧中心（養護型）</td>\n",
       "      <td>A1</td>\n",
       "      <td>10008</td>\n",
       "      <td>10008030</td>\n",
       "      <td>南投縣草屯鎮新豐里稻香路23之61號</td>\n",
       "      <td>B</td>\n",
       "      <td>日間照顧服務</td>\n",
       "      <td>10008</td>\n",
       "      <td>10008010;10008030</td>\n",
       "      <td>049-2318568</td>\n",
       "      <td>陳素梅</td>\n",
       "      <td>[日間, 照顧, 服務]</td>\n",
       "    </tr>\n",
       "    <tr>\n",
       "      <th>3254</th>\n",
       "      <td>財團法人彰化縣私立慈恩社會福利慈善事業基金會附設彰化縣私立二林慈恩社區式服務類長期照顧服務機構</td>\n",
       "      <td>2</td>\n",
       "      <td>10007</td>\n",
       "      <td>10007200</td>\n",
       "      <td>彰化縣二林鎮華崙里光復路83號</td>\n",
       "      <td>B</td>\n",
       "      <td>日間照顧服務</td>\n",
       "      <td>10007</td>\n",
       "      <td>10007010;10007020;10007030;10007040;10007050;1...</td>\n",
       "      <td>04-8681199</td>\n",
       "      <td>李金水</td>\n",
       "      <td>[日間, 照顧, 服務]</td>\n",
       "    </tr>\n",
       "    <tr>\n",
       "      <th>3323</th>\n",
       "      <td>財團法人彰化縣私立青山社會福利慈善事業基金會附設彰化縣私立陳茶社區長照機構</td>\n",
       "      <td>2</td>\n",
       "      <td>10007</td>\n",
       "      <td>10007100</td>\n",
       "      <td>彰化縣員林市三條里20鄰條和五街125號2、3樓</td>\n",
       "      <td>B</td>\n",
       "      <td>日間照顧服務</td>\n",
       "      <td>10007</td>\n",
       "      <td>10007010;10007020;10007030;10007040;10007050;1...</td>\n",
       "      <td>04-8383878</td>\n",
       "      <td>黃營</td>\n",
       "      <td>[日間, 照顧, 服務]</td>\n",
       "    </tr>\n",
       "    <tr>\n",
       "      <th>3327</th>\n",
       "      <td>財團法人高雄市私立萃文書院社會福利慈善事業基金會附設仁惠社區(日間照顧)長照機構</td>\n",
       "      <td>2</td>\n",
       "      <td>64000</td>\n",
       "      <td>64000050</td>\n",
       "      <td>高雄市三民區九如一路58號12樓</td>\n",
       "      <td>B</td>\n",
       "      <td>日間照顧服務</td>\n",
       "      <td>64000</td>\n",
       "      <td>64000050</td>\n",
       "      <td>07-3802030</td>\n",
       "      <td>黃碧恭</td>\n",
       "      <td>[日間, 照顧, 服務]</td>\n",
       "    </tr>\n",
       "    <tr>\n",
       "      <th>3349</th>\n",
       "      <td>國軍退除役官兵輔導委員會花蓮榮譽國民之家附設山青社區長照機構</td>\n",
       "      <td>2</td>\n",
       "      <td>10015</td>\n",
       "      <td>10015010</td>\n",
       "      <td>花蓮縣花蓮市府前路29號</td>\n",
       "      <td>B</td>\n",
       "      <td>日間照顧服務</td>\n",
       "      <td>10015</td>\n",
       "      <td>10015010;10015040;10015050</td>\n",
       "      <td>03-8246357</td>\n",
       "      <td>方矩</td>\n",
       "      <td>[日間, 照顧, 服務]</td>\n",
       "    </tr>\n",
       "  </tbody>\n",
       "</table>\n",
       "<p>193 rows × 12 columns</p>\n",
       "</div>"
      ],
      "text/plain": [
       "                                                 機構名稱 機構種類     縣市         區  \\\n",
       "9              財團法人高雄市郭吳麗珠社會福利慈善事業基金會私立鳳山社區(日間照顧)長照機構    2  64000  64000120   \n",
       "16                      高雄醫學大學附設高雄市私立大同建國社區(日間照顧)長照機構    2  64000  64000070   \n",
       "25                                   佛教慈濟醫療財團法人花蓮慈濟醫院   B2  10015  10015010   \n",
       "57                 有限責任嘉義縣翔鶴照顧服務勞動合作社附設私立翔鶴蒜頭糖廠社區長照機構    2  10010  10010080   \n",
       "89                                  衛生福利部朴子醫院附設社區長照機構    2  10010  10010020   \n",
       "...                                               ...  ...    ...       ...   \n",
       "3243                               南投縣私立草屯長期照顧中心（養護型）   A1  10008  10008030   \n",
       "3254  財團法人彰化縣私立慈恩社會福利慈善事業基金會附設彰化縣私立二林慈恩社區式服務類長期照顧服務機構    2  10007  10007200   \n",
       "3323            財團法人彰化縣私立青山社會福利慈善事業基金會附設彰化縣私立陳茶社區長照機構    2  10007  10007100   \n",
       "3327         財團法人高雄市私立萃文書院社會福利慈善事業基金會附設仁惠社區(日間照顧)長照機構    2  64000  64000050   \n",
       "3349                   國軍退除役官兵輔導委員會花蓮榮譽國民之家附設山青社區長照機構    2  10015  10015010   \n",
       "\n",
       "                          地址全址 O_ABC  特約服務項目   特約縣市  \\\n",
       "9             高雄市鳳山區三民里光遠路222號     B  日間照顧服務  64000   \n",
       "16           高雄市前金區草江里自立二路111號     B  日間照顧服務  64000   \n",
       "25          花蓮縣花蓮市民勤里中央路三段707號     B  日間照顧服務  10015   \n",
       "57                嘉義縣六腳鄉工廠村63號     B  日間照顧服務  10010   \n",
       "89             嘉義縣朴子市永和里42之50號     B  日間照顧服務  10010   \n",
       "...                        ...   ...     ...    ...   \n",
       "3243        南投縣草屯鎮新豐里稻香路23之61號     B  日間照顧服務  10008   \n",
       "3254           彰化縣二林鎮華崙里光復路83號     B  日間照顧服務  10007   \n",
       "3323  彰化縣員林市三條里20鄰條和五街125號2、3樓     B  日間照顧服務  10007   \n",
       "3327          高雄市三民區九如一路58號12樓     B  日間照顧服務  64000   \n",
       "3349              花蓮縣花蓮市府前路29號     B  日間照顧服務  10015   \n",
       "\n",
       "                                                   特約區域            機構電話  \\\n",
       "9     64000010;64000020;64000030;64000040;64000050;6...      07-7997255   \n",
       "16    64000010;64000020;64000030;64000040;64000050;6...      07-2850631   \n",
       "25                                             10015010      03-8465020   \n",
       "57    10010010;10010020;10010030;10010040;10010050;1...      05-3805358   \n",
       "89    10010010;10010020;10010030;10010040;10010050;1...  05-3790600#243   \n",
       "...                                                 ...             ...   \n",
       "3243                                  10008010;10008030     049-2318568   \n",
       "3254  10007010;10007020;10007030;10007040;10007050;1...      04-8681199   \n",
       "3323  10007010;10007020;10007030;10007040;10007050;1...      04-8383878   \n",
       "3327                                           64000050      07-3802030   \n",
       "3349                         10015010;10015040;10015050      03-8246357   \n",
       "\n",
       "     機構負責人姓名           seg  \n",
       "9        郭光皓  [日間, 照顧, 服務]  \n",
       "16       楊俊毓  [日間, 照顧, 服務]  \n",
       "25       林欣榮  [日間, 照顧, 服務]  \n",
       "57       李杰修  [日間, 照顧, 服務]  \n",
       "89       賴仲亮  [日間, 照顧, 服務]  \n",
       "...      ...           ...  \n",
       "3243     陳素梅  [日間, 照顧, 服務]  \n",
       "3254     李金水  [日間, 照顧, 服務]  \n",
       "3323      黃營  [日間, 照顧, 服務]  \n",
       "3327     黃碧恭  [日間, 照顧, 服務]  \n",
       "3349      方矩  [日間, 照顧, 服務]  \n",
       "\n",
       "[193 rows x 12 columns]"
      ]
     },
     "execution_count": 56,
     "metadata": {},
     "output_type": "execute_result"
    }
   ],
   "source": [
    "show_sub = orgdata['特約服務項目']=='日間照顧服務'\n",
    "subdata = orgdata[show_sub]\n",
    "subdata"
   ]
  },
  {
   "cell_type": "code",
   "execution_count": 57,
   "id": "2280d88f",
   "metadata": {},
   "outputs": [],
   "source": [
    "subdata.to_csv(\"test.csv\", index=False)"
   ]
  },
  {
   "cell_type": "code",
   "execution_count": null,
   "id": "389f56a8",
   "metadata": {},
   "outputs": [],
   "source": []
  }
 ],
 "metadata": {
  "kernelspec": {
   "display_name": "Python 3 (ipykernel)",
   "language": "python",
   "name": "python3"
  },
  "language_info": {
   "codemirror_mode": {
    "name": "ipython",
    "version": 3
   },
   "file_extension": ".py",
   "mimetype": "text/x-python",
   "name": "python",
   "nbconvert_exporter": "python",
   "pygments_lexer": "ipython3",
   "version": "3.9.12"
  }
 },
 "nbformat": 4,
 "nbformat_minor": 5
}
