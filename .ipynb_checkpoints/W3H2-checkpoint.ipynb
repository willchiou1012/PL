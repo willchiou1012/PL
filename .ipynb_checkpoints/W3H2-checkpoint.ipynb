{
 "cells": [
  {
   "cell_type": "code",
   "execution_count": null,
   "id": "50c84260",
   "metadata": {},
   "outputs": [],
   "source": [
    "print(\"練習0202\")\n",
    "\n",
    "t1 = \"最高法院民事判例\",\"最高法院刑事判例\",\"行政法院判例\",\"大法官解釋\"\n",
    "t2 = 7,3,5,4\n",
    "\n",
    "t = t1[:3]\n",
    "print(t)\n",
    "\n",
    "z = zip(t,t2)\n",
    "print(list(z))"
   ]
  }
 ],
 "metadata": {
  "kernelspec": {
   "display_name": "Python 3 (ipykernel)",
   "language": "python",
   "name": "python3"
  },
  "language_info": {
   "codemirror_mode": {
    "name": "ipython",
    "version": 3
   },
   "file_extension": ".py",
   "mimetype": "text/x-python",
   "name": "python",
   "nbconvert_exporter": "python",
   "pygments_lexer": "ipython3",
   "version": "3.9.12"
  }
 },
 "nbformat": 4,
 "nbformat_minor": 5
}
