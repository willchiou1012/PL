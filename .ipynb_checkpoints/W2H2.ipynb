{
 "cells": [
  {
   "cell_type": "code",
   "execution_count": 34,
   "id": "85618e41",
   "metadata": {},
   "outputs": [
    {
     "name": "stdout",
     "output_type": "stream",
     "text": [
      "12608\n"
     ]
    }
   ],
   "source": [
    "date = 13 + 28 + 19 #延期的天數\n",
    "i = 11805\n",
    "for n in range(59):\n",
    "    i = i * 1.0005\n",
    "l = 150 + 300 #違約金\n",
    "total = i + l\n",
    "print(int(total))"
   ]
  },
  {
   "cell_type": "code",
   "execution_count": null,
   "id": "8733bb5d",
   "metadata": {},
   "outputs": [],
   "source": []
  }
 ],
 "metadata": {
  "kernelspec": {
   "display_name": "Python 3 (ipykernel)",
   "language": "python",
   "name": "python3"
  },
  "language_info": {
   "codemirror_mode": {
    "name": "ipython",
    "version": 3
   },
   "file_extension": ".py",
   "mimetype": "text/x-python",
   "name": "python",
   "nbconvert_exporter": "python",
   "pygments_lexer": "ipython3",
   "version": "3.9.12"
  }
 },
 "nbformat": 4,
 "nbformat_minor": 5
}
