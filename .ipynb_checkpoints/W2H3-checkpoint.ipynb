{
 "cells": [
  {
   "cell_type": "code",
   "execution_count": 9,
   "id": "55e67f38",
   "metadata": {},
   "outputs": [
    {
     "name": "stdout",
     "output_type": "stream",
     "text": [
      "請輸入案件:被告原告接闖紅燈\n",
      "原告50%被告50%\n"
     ]
    }
   ],
   "source": [
    "event = input(\"請輸入案件:\")\n",
    "\n",
    "if str(event) == \"被告闖紅燈\":\n",
    "    print(\"被告賠100%\")\n",
    "elif str(event) == \"原告闖紅燈\":\n",
    "    print(\"原告多被告少\")\n",
    "elif str(event) == \"被告原告接闖紅燈\":\n",
    "    print(\"原告50%被告50%\")\n",
    "else:\n",
    "    print(\"請填入有效訊息\")"
   ]
  },
  {
   "cell_type": "code",
   "execution_count": null,
   "id": "67c59c12",
   "metadata": {},
   "outputs": [],
   "source": []
  }
 ],
 "metadata": {
  "kernelspec": {
   "display_name": "Python 3 (ipykernel)",
   "language": "python",
   "name": "python3"
  },
  "language_info": {
   "codemirror_mode": {
    "name": "ipython",
    "version": 3
   },
   "file_extension": ".py",
   "mimetype": "text/x-python",
   "name": "python",
   "nbconvert_exporter": "python",
   "pygments_lexer": "ipython3",
   "version": "3.9.12"
  }
 },
 "nbformat": 4,
 "nbformat_minor": 5
}
