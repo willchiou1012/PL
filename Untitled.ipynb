{
 "cells": [
  {
   "cell_type": "code",
   "execution_count": 21,
   "id": "5baa59be",
   "metadata": {},
   "outputs": [
    {
     "name": "stdout",
     "output_type": "stream",
     "text": [
      "被告須賠償 17976 元\n",
      "原告須賠償 7704 元\n"
     ]
    }
   ],
   "source": [
    "money = 25688\n",
    "A = ((money // 10) * 7) #被告\n",
    "B = ((money // 10) * 3) #原告\n",
    "print(\"被告須賠償\",A,\"元\")\n",
    "print(\"原告須賠償\",B,\"元\")"
   ]
  }
 ],
 "metadata": {
  "kernelspec": {
   "display_name": "Python 3 (ipykernel)",
   "language": "python",
   "name": "python3"
  },
  "language_info": {
   "codemirror_mode": {
    "name": "ipython",
    "version": 3
   },
   "file_extension": ".py",
   "mimetype": "text/x-python",
   "name": "python",
   "nbconvert_exporter": "python",
   "pygments_lexer": "ipython3",
   "version": "3.9.12"
  }
 },
 "nbformat": 4,
 "nbformat_minor": 5
}
