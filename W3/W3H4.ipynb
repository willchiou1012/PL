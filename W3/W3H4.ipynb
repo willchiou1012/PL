{
 "cells": [
  {
   "cell_type": "code",
   "execution_count": null,
   "id": "d5bb9fee",
   "metadata": {},
   "outputs": [],
   "source": [
    "print(\"練習0204\")\n",
    "\n",
    "d={\"刑事訴訟法\":[\"第159條之4\",\"第159條之5\",\"第159條之1\",\"第267條\",\"第299條第1項\",\"第302條第1款\"],\n",
    "   \"中華民國刑法\":[\"第11條\",\"第38條第1項第1款\",\"第42條第3項\",\"第55條\",\"第56條\",\"第57條\",\"第59條\"]}\n",
    "\n",
    "\n",
    "l1=list(d.keys())\n",
    "print(l1)\n",
    "l2=list(d.values())\n",
    "print(l2)\n",
    "\n",
    "\n",
    "print(d[\"刑事訴訟法\"][3])\n",
    "\n",
    "d[\"中華民國刑法\"]=[\"第11條\",\"第38條第1項第1款\",\"第42條第3項\",\"第55條\",\"第56條\",\"第57條\",\"第59條\",\"第62條\"]\n",
    "print(d)"
   ]
  }
 ],
 "metadata": {
  "kernelspec": {
   "display_name": "Python 3 (ipykernel)",
   "language": "python",
   "name": "python3"
  },
  "language_info": {
   "codemirror_mode": {
    "name": "ipython",
    "version": 3
   },
   "file_extension": ".py",
   "mimetype": "text/x-python",
   "name": "python",
   "nbconvert_exporter": "python",
   "pygments_lexer": "ipython3",
   "version": "3.9.12"
  }
 },
 "nbformat": 4,
 "nbformat_minor": 5
}
