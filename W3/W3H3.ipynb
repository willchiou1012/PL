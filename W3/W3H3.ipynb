{
 "cells": [
  {
   "cell_type": "code",
   "execution_count": null,
   "id": "a6c09a2f",
   "metadata": {},
   "outputs": [],
   "source": [
    "print(\"練習0203\")\n",
    "\n",
    "s1={\"有期徒刑\",\"沒收\",\"罰金\"}\n",
    "s2={\"無期徒刑\",\"罰金\",\"褫奪公權\"}\n",
    "\n",
    "print(s1|s2)\n",
    "\n",
    "print(s2-s1)\n",
    "\n",
    "print(s1&s2)\n",
    "print(\"罰金\" in s1)\n",
    "print(\"罰金\" in s2)"
   ]
  }
 ],
 "metadata": {
  "kernelspec": {
   "display_name": "Python 3 (ipykernel)",
   "language": "python",
   "name": "python3"
  },
  "language_info": {
   "codemirror_mode": {
    "name": "ipython",
    "version": 3
   },
   "file_extension": ".py",
   "mimetype": "text/x-python",
   "name": "python",
   "nbconvert_exporter": "python",
   "pygments_lexer": "ipython3",
   "version": "3.9.12"
  }
 },
 "nbformat": 4,
 "nbformat_minor": 5
}
